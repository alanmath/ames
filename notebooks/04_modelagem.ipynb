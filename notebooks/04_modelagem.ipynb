{
 "cells": [
  {
   "cell_type": "markdown",
   "metadata": {},
   "source": [
    "Importando bibliotecas"
   ]
  },
  {
   "cell_type": "code",
   "execution_count": 1,
   "metadata": {},
   "outputs": [],
   "source": [
    "import pickle\n",
    "import pathlib\n",
    "\n",
    "import numpy as np\n",
    "import pandas as pd"
   ]
  },
  {
   "cell_type": "markdown",
   "metadata": {},
   "source": [
    "#### Carregando base de dados com a feature engineering "
   ]
  },
  {
   "cell_type": "code",
   "execution_count": 2,
   "metadata": {},
   "outputs": [
    {
     "name": "stdout",
     "output_type": "stream",
     "text": [
      "c:\\Users\\livia\\OneDrive\\Área de Trabalho\\inspe\\4_semestre\\ml\\projeto\\ames\\data\n"
     ]
    }
   ],
   "source": [
    "DATA_DIR = pathlib.Path.cwd().parent / 'data'\n",
    "print(DATA_DIR)"
   ]
  },
  {
   "cell_type": "code",
   "execution_count": 3,
   "metadata": {},
   "outputs": [],
   "source": [
    "clean_data_path = DATA_DIR / 'processed' / 'ames_minha1.pkl'"
   ]
  },
  {
   "cell_type": "code",
   "execution_count": 4,
   "metadata": {},
   "outputs": [
    {
     "name": "stdout",
     "output_type": "stream",
     "text": [
      "<class 'pandas.core.frame.DataFrame'>\n",
      "Index: 2724 entries, 0 to 2929\n",
      "Data columns (total 80 columns):\n",
      " #   Column           Non-Null Count  Dtype   \n",
      "---  ------           --------------  -----   \n",
      " 0   MS.SubClass      2724 non-null   category\n",
      " 1   MS.Zoning        2724 non-null   category\n",
      " 2   Lot.Frontage     2724 non-null   float64 \n",
      " 3   Lot.Area         2724 non-null   float64 \n",
      " 4   Lot.Shape        2724 non-null   category\n",
      " 5   Land.Contour     2724 non-null   category\n",
      " 6   Lot.Config       2724 non-null   category\n",
      " 7   Land.Slope       2724 non-null   category\n",
      " 8   Neighborhood     2724 non-null   category\n",
      " 9   Bldg.Type        2724 non-null   category\n",
      " 10  House.Style      2724 non-null   category\n",
      " 11  Overall.Qual     2724 non-null   category\n",
      " 12  Overall.Cond     2724 non-null   category\n",
      " 13  Year.Built       2724 non-null   float64 \n",
      " 14  Roof.Style       2724 non-null   category\n",
      " 15  Mas.Vnr.Type     2724 non-null   category\n",
      " 16  Mas.Vnr.Area     2724 non-null   float64 \n",
      " 17  Exter.Qual       2724 non-null   category\n",
      " 18  Exter.Cond       2724 non-null   category\n",
      " 19  Foundation       2724 non-null   category\n",
      " 20  Bsmt.Qual        2724 non-null   category\n",
      " 21  Bsmt.Cond        2724 non-null   category\n",
      " 22  Bsmt.Exposure    2724 non-null   category\n",
      " 23  BsmtFin.Type.1   2724 non-null   category\n",
      " 24  BsmtFin.SF.1     2724 non-null   float64 \n",
      " 25  BsmtFin.Type.2   2724 non-null   category\n",
      " 26  BsmtFin.SF.2     2724 non-null   float64 \n",
      " 27  Bsmt.Unf.SF      2724 non-null   float64 \n",
      " 28  Total.Bsmt.SF    2724 non-null   float64 \n",
      " 29  Heating.QC       2724 non-null   category\n",
      " 30  Central.Air      2724 non-null   category\n",
      " 31  Electrical       2724 non-null   category\n",
      " 32  X1st.Flr.SF      2724 non-null   float64 \n",
      " 33  X2nd.Flr.SF      2724 non-null   float64 \n",
      " 34  Low.Qual.Fin.SF  2724 non-null   float64 \n",
      " 35  Gr.Liv.Area      2724 non-null   float64 \n",
      " 36  Bsmt.Full.Bath   2724 non-null   float64 \n",
      " 37  Bsmt.Half.Bath   2724 non-null   float64 \n",
      " 38  Full.Bath        2724 non-null   float64 \n",
      " 39  Half.Bath        2724 non-null   float64 \n",
      " 40  Bedroom.AbvGr    2724 non-null   float64 \n",
      " 41  Kitchen.AbvGr    2724 non-null   float64 \n",
      " 42  Kitchen.Qual     2724 non-null   category\n",
      " 43  TotRms.AbvGrd    2724 non-null   float64 \n",
      " 44  Functional       2724 non-null   category\n",
      " 45  Fireplaces       2724 non-null   float64 \n",
      " 46  Garage.Type      2724 non-null   category\n",
      " 47  Garage.Finish    2724 non-null   category\n",
      " 48  Garage.Cars      2724 non-null   float64 \n",
      " 49  Garage.Area      2724 non-null   float64 \n",
      " 50  Garage.Qual      2724 non-null   category\n",
      " 51  Garage.Cond      2724 non-null   category\n",
      " 52  Paved.Drive      2724 non-null   category\n",
      " 53  Wood.Deck.SF     2724 non-null   float64 \n",
      " 54  Open.Porch.SF    2724 non-null   float64 \n",
      " 55  Enclosed.Porch   2724 non-null   float64 \n",
      " 56  X3Ssn.Porch      2724 non-null   float64 \n",
      " 57  Screen.Porch     2724 non-null   float64 \n",
      " 58  Pool.Area        2724 non-null   float64 \n",
      " 59  Fence            2724 non-null   category\n",
      " 60  Misc.Val         2724 non-null   float64 \n",
      " 61  Mo.Sold          2724 non-null   float64 \n",
      " 62  Yr.Sold          2724 non-null   float64 \n",
      " 63  Sale.Type        2724 non-null   category\n",
      " 64  Sale.Condition   2724 non-null   category\n",
      " 65  SalePrice        2724 non-null   float64 \n",
      " 66  Condition        2724 non-null   category\n",
      " 67  HasShed          2724 non-null   bool    \n",
      " 68  HasAlley         2724 non-null   bool    \n",
      " 69  Exterior         2724 non-null   category\n",
      " 70  Garage.Age       2724 non-null   float64 \n",
      " 71  Remod.Age        2724 non-null   float64 \n",
      " 72  House.Age        2724 non-null   float64 \n",
      " 73  TotalSF          2724 non-null   float64 \n",
      " 74  TotalBath        2724 non-null   float64 \n",
      " 75  All.Porch.SF     2724 non-null   float64 \n",
      " 76  TotalSFLog       2724 non-null   float64 \n",
      " 77  All.SF           2724 non-null   float64 \n",
      " 78  AllSF-s2         2724 non-null   float64 \n",
      " 79  GrLivArea-s2     2724 non-null   float64 \n",
      "dtypes: bool(2), category(36), float64(42)\n",
      "memory usage: 1017.8 KB\n"
     ]
    }
   ],
   "source": [
    "with open('../data/processed/ames_minha1.pkl', 'rb') as file:\n",
    "    data = pickle.load(file)\n",
    "\n",
    "data.info()"
   ]
  },
  {
   "cell_type": "code",
   "execution_count": 5,
   "metadata": {},
   "outputs": [],
   "source": [
    "model_data = data.copy()"
   ]
  },
  {
   "cell_type": "markdown",
   "metadata": {},
   "source": [
    "## Transformando todas as colunas em numéricas"
   ]
  },
  {
   "cell_type": "code",
   "execution_count": 6,
   "metadata": {},
   "outputs": [],
   "source": [
    "categorical_columns = []\n",
    "ordinal_columns = []\n",
    "for col in model_data.select_dtypes('category').columns:\n",
    "    if model_data[col].cat.ordered:\n",
    "        ordinal_columns.append(col)\n",
    "    else:\n",
    "        categorical_columns.append(col)"
   ]
  },
  {
   "cell_type": "markdown",
   "metadata": {},
   "source": [
    "### Colunas ordinais\n"
   ]
  },
  {
   "cell_type": "code",
   "execution_count": 7,
   "metadata": {},
   "outputs": [],
   "source": [
    "for col in ordinal_columns:\n",
    "    codes, _ = pd.factorize(data[col], sort=True)\n",
    "    model_data[col] = codes"
   ]
  },
  {
   "cell_type": "markdown",
   "metadata": {},
   "source": [
    "### Colunas categóricas"
   ]
  },
  {
   "cell_type": "code",
   "execution_count": 8,
   "metadata": {},
   "outputs": [
    {
     "data": {
      "text/html": [
       "<div>\n",
       "<style scoped>\n",
       "    .dataframe tbody tr th:only-of-type {\n",
       "        vertical-align: middle;\n",
       "    }\n",
       "\n",
       "    .dataframe tbody tr th {\n",
       "        vertical-align: top;\n",
       "    }\n",
       "\n",
       "    .dataframe thead th {\n",
       "        text-align: right;\n",
       "    }\n",
       "</style>\n",
       "<table border=\"1\" class=\"dataframe\">\n",
       "  <thead>\n",
       "    <tr style=\"text-align: right;\">\n",
       "      <th></th>\n",
       "      <th>0</th>\n",
       "      <th>1</th>\n",
       "      <th>2</th>\n",
       "      <th>3</th>\n",
       "      <th>4</th>\n",
       "    </tr>\n",
       "  </thead>\n",
       "  <tbody>\n",
       "    <tr>\n",
       "      <th>AsbShng</th>\n",
       "      <td>False</td>\n",
       "      <td>False</td>\n",
       "      <td>False</td>\n",
       "      <td>False</td>\n",
       "      <td>False</td>\n",
       "    </tr>\n",
       "    <tr>\n",
       "      <th>BrkFace</th>\n",
       "      <td>True</td>\n",
       "      <td>False</td>\n",
       "      <td>False</td>\n",
       "      <td>True</td>\n",
       "      <td>False</td>\n",
       "    </tr>\n",
       "    <tr>\n",
       "      <th>CemntBd</th>\n",
       "      <td>False</td>\n",
       "      <td>False</td>\n",
       "      <td>False</td>\n",
       "      <td>False</td>\n",
       "      <td>False</td>\n",
       "    </tr>\n",
       "    <tr>\n",
       "      <th>HdBoard</th>\n",
       "      <td>False</td>\n",
       "      <td>False</td>\n",
       "      <td>False</td>\n",
       "      <td>False</td>\n",
       "      <td>False</td>\n",
       "    </tr>\n",
       "    <tr>\n",
       "      <th>MetalSd</th>\n",
       "      <td>False</td>\n",
       "      <td>False</td>\n",
       "      <td>False</td>\n",
       "      <td>False</td>\n",
       "      <td>False</td>\n",
       "    </tr>\n",
       "    <tr>\n",
       "      <th>Plywood</th>\n",
       "      <td>False</td>\n",
       "      <td>False</td>\n",
       "      <td>False</td>\n",
       "      <td>False</td>\n",
       "      <td>False</td>\n",
       "    </tr>\n",
       "    <tr>\n",
       "      <th>Stucco</th>\n",
       "      <td>False</td>\n",
       "      <td>False</td>\n",
       "      <td>False</td>\n",
       "      <td>False</td>\n",
       "      <td>False</td>\n",
       "    </tr>\n",
       "    <tr>\n",
       "      <th>VinylSd</th>\n",
       "      <td>False</td>\n",
       "      <td>True</td>\n",
       "      <td>False</td>\n",
       "      <td>False</td>\n",
       "      <td>True</td>\n",
       "    </tr>\n",
       "    <tr>\n",
       "      <th>Wd Sdng</th>\n",
       "      <td>False</td>\n",
       "      <td>False</td>\n",
       "      <td>True</td>\n",
       "      <td>False</td>\n",
       "      <td>False</td>\n",
       "    </tr>\n",
       "    <tr>\n",
       "      <th>WdShing</th>\n",
       "      <td>False</td>\n",
       "      <td>False</td>\n",
       "      <td>False</td>\n",
       "      <td>False</td>\n",
       "      <td>False</td>\n",
       "    </tr>\n",
       "    <tr>\n",
       "      <th>Other</th>\n",
       "      <td>False</td>\n",
       "      <td>False</td>\n",
       "      <td>False</td>\n",
       "      <td>False</td>\n",
       "      <td>False</td>\n",
       "    </tr>\n",
       "    <tr>\n",
       "      <th>Exterior</th>\n",
       "      <td>BrkFace</td>\n",
       "      <td>VinylSd</td>\n",
       "      <td>Wd Sdng</td>\n",
       "      <td>BrkFace</td>\n",
       "      <td>VinylSd</td>\n",
       "    </tr>\n",
       "  </tbody>\n",
       "</table>\n",
       "</div>"
      ],
      "text/plain": [
       "                0        1        2        3        4\n",
       "AsbShng     False    False    False    False    False\n",
       "BrkFace      True    False    False     True    False\n",
       "CemntBd     False    False    False    False    False\n",
       "HdBoard     False    False    False    False    False\n",
       "MetalSd     False    False    False    False    False\n",
       "Plywood     False    False    False    False    False\n",
       "Stucco      False    False    False    False    False\n",
       "VinylSd     False     True    False    False     True\n",
       "Wd Sdng     False    False     True    False    False\n",
       "WdShing     False    False    False    False    False\n",
       "Other       False    False    False    False    False\n",
       "Exterior  BrkFace  VinylSd  Wd Sdng  BrkFace  VinylSd"
      ]
     },
     "execution_count": 8,
     "metadata": {},
     "output_type": "execute_result"
    }
   ],
   "source": [
    "original_data = model_data['Exterior']\n",
    "encoded_data = pd.get_dummies(original_data)\n",
    "\n",
    "aux_dataframe = encoded_data\n",
    "aux_dataframe['Exterior'] = original_data.copy()\n",
    "\n",
    "aux_dataframe.head().transpose()"
   ]
  },
  {
   "cell_type": "code",
   "execution_count": 9,
   "metadata": {},
   "outputs": [
    {
     "data": {
      "text/html": [
       "<div>\n",
       "<style scoped>\n",
       "    .dataframe tbody tr th:only-of-type {\n",
       "        vertical-align: middle;\n",
       "    }\n",
       "\n",
       "    .dataframe tbody tr th {\n",
       "        vertical-align: top;\n",
       "    }\n",
       "\n",
       "    .dataframe thead th {\n",
       "        text-align: right;\n",
       "    }\n",
       "</style>\n",
       "<table border=\"1\" class=\"dataframe\">\n",
       "  <thead>\n",
       "    <tr style=\"text-align: right;\">\n",
       "      <th></th>\n",
       "      <th>0</th>\n",
       "      <th>1</th>\n",
       "      <th>2</th>\n",
       "      <th>3</th>\n",
       "      <th>4</th>\n",
       "    </tr>\n",
       "  </thead>\n",
       "  <tbody>\n",
       "    <tr>\n",
       "      <th>BrkFace</th>\n",
       "      <td>True</td>\n",
       "      <td>False</td>\n",
       "      <td>False</td>\n",
       "      <td>True</td>\n",
       "      <td>False</td>\n",
       "    </tr>\n",
       "    <tr>\n",
       "      <th>CemntBd</th>\n",
       "      <td>False</td>\n",
       "      <td>False</td>\n",
       "      <td>False</td>\n",
       "      <td>False</td>\n",
       "      <td>False</td>\n",
       "    </tr>\n",
       "    <tr>\n",
       "      <th>HdBoard</th>\n",
       "      <td>False</td>\n",
       "      <td>False</td>\n",
       "      <td>False</td>\n",
       "      <td>False</td>\n",
       "      <td>False</td>\n",
       "    </tr>\n",
       "    <tr>\n",
       "      <th>MetalSd</th>\n",
       "      <td>False</td>\n",
       "      <td>False</td>\n",
       "      <td>False</td>\n",
       "      <td>False</td>\n",
       "      <td>False</td>\n",
       "    </tr>\n",
       "    <tr>\n",
       "      <th>Plywood</th>\n",
       "      <td>False</td>\n",
       "      <td>False</td>\n",
       "      <td>False</td>\n",
       "      <td>False</td>\n",
       "      <td>False</td>\n",
       "    </tr>\n",
       "    <tr>\n",
       "      <th>Stucco</th>\n",
       "      <td>False</td>\n",
       "      <td>False</td>\n",
       "      <td>False</td>\n",
       "      <td>False</td>\n",
       "      <td>False</td>\n",
       "    </tr>\n",
       "    <tr>\n",
       "      <th>VinylSd</th>\n",
       "      <td>False</td>\n",
       "      <td>True</td>\n",
       "      <td>False</td>\n",
       "      <td>False</td>\n",
       "      <td>True</td>\n",
       "    </tr>\n",
       "    <tr>\n",
       "      <th>Wd Sdng</th>\n",
       "      <td>False</td>\n",
       "      <td>False</td>\n",
       "      <td>True</td>\n",
       "      <td>False</td>\n",
       "      <td>False</td>\n",
       "    </tr>\n",
       "    <tr>\n",
       "      <th>WdShing</th>\n",
       "      <td>False</td>\n",
       "      <td>False</td>\n",
       "      <td>False</td>\n",
       "      <td>False</td>\n",
       "      <td>False</td>\n",
       "    </tr>\n",
       "    <tr>\n",
       "      <th>Other</th>\n",
       "      <td>False</td>\n",
       "      <td>False</td>\n",
       "      <td>False</td>\n",
       "      <td>False</td>\n",
       "      <td>False</td>\n",
       "    </tr>\n",
       "    <tr>\n",
       "      <th>Exterior</th>\n",
       "      <td>BrkFace</td>\n",
       "      <td>VinylSd</td>\n",
       "      <td>Wd Sdng</td>\n",
       "      <td>BrkFace</td>\n",
       "      <td>VinylSd</td>\n",
       "    </tr>\n",
       "  </tbody>\n",
       "</table>\n",
       "</div>"
      ],
      "text/plain": [
       "                0        1        2        3        4\n",
       "BrkFace      True    False    False     True    False\n",
       "CemntBd     False    False    False    False    False\n",
       "HdBoard     False    False    False    False    False\n",
       "MetalSd     False    False    False    False    False\n",
       "Plywood     False    False    False    False    False\n",
       "Stucco      False    False    False    False    False\n",
       "VinylSd     False     True    False    False     True\n",
       "Wd Sdng     False    False     True    False    False\n",
       "WdShing     False    False    False    False    False\n",
       "Other       False    False    False    False    False\n",
       "Exterior  BrkFace  VinylSd  Wd Sdng  BrkFace  VinylSd"
      ]
     },
     "execution_count": 9,
     "metadata": {},
     "output_type": "execute_result"
    }
   ],
   "source": [
    "original_data = model_data['Exterior']\n",
    "encoded_data = pd.get_dummies(original_data, drop_first=True)\n",
    "\n",
    "aux_dataframe = encoded_data\n",
    "aux_dataframe['Exterior'] = original_data.copy()\n",
    "\n",
    "aux_dataframe.head().transpose()"
   ]
  },
  {
   "cell_type": "markdown",
   "metadata": {},
   "source": [
    "#### Transformação feita com one-hot enconding, retirando a primeira coluna"
   ]
  },
  {
   "cell_type": "code",
   "execution_count": 10,
   "metadata": {},
   "outputs": [],
   "source": [
    "model_data = pd.get_dummies(model_data, drop_first=True)"
   ]
  },
  {
   "cell_type": "code",
   "execution_count": 11,
   "metadata": {},
   "outputs": [
    {
     "name": "stdout",
     "output_type": "stream",
     "text": [
      "<class 'pandas.core.frame.DataFrame'>\n",
      "Index: 2724 entries, 0 to 2929\n",
      "Columns: 173 entries, Lot.Frontage to Exterior_Other\n",
      "dtypes: bool(117), float64(42), int64(14)\n",
      "memory usage: 1.5 MB\n"
     ]
    }
   ],
   "source": [
    "model_data.info()"
   ]
  },
  {
   "cell_type": "markdown",
   "metadata": {},
   "source": [
    "**Quais colunas foram criadas a partir de cada uma das colunas categóricas**"
   ]
  },
  {
   "cell_type": "code",
   "execution_count": 12,
   "metadata": {},
   "outputs": [
    {
     "name": "stdout",
     "output_type": "stream",
     "text": [
      "From column \"MS.SubClass\" we made \"MS.SubClass_30\", \"MS.SubClass_50\", \"MS.SubClass_60\", \"MS.SubClass_70\", \"MS.SubClass_80\", \"MS.SubClass_85\", \"MS.SubClass_90\", \"MS.SubClass_120\", \"MS.SubClass_160\", \"MS.SubClass_190\", \"MS.SubClass_Other\"\n",
      "\n",
      "From column \"MS.Zoning\" we made \"MS.Zoning_RH\", \"MS.Zoning_RL\", \"MS.Zoning_RM\"\n",
      "\n",
      "From column \"Land.Contour\" we made \"Land.Contour_HLS\", \"Land.Contour_Low\", \"Land.Contour_Lvl\"\n",
      "\n",
      "From column \"Lot.Config\" we made \"Lot.Config_CulDSac\", \"Lot.Config_FR2\", \"Lot.Config_FR3\", \"Lot.Config_Inside\"\n",
      "\n",
      "From column \"Neighborhood\" we made \"Neighborhood_BrDale\", \"Neighborhood_BrkSide\", \"Neighborhood_ClearCr\", \"Neighborhood_CollgCr\", \"Neighborhood_Crawfor\", \"Neighborhood_Edwards\", \"Neighborhood_Gilbert\", \"Neighborhood_IDOTRR\", \"Neighborhood_MeadowV\", \"Neighborhood_Mitchel\", \"Neighborhood_NAmes\", \"Neighborhood_NPkVill\", \"Neighborhood_NWAmes\", \"Neighborhood_NoRidge\", \"Neighborhood_NridgHt\", \"Neighborhood_OldTown\", \"Neighborhood_SWISU\", \"Neighborhood_Sawyer\", \"Neighborhood_SawyerW\", \"Neighborhood_Somerst\", \"Neighborhood_StoneBr\", \"Neighborhood_Timber\", \"Neighborhood_Veenker\"\n",
      "\n",
      "From column \"Bldg.Type\" we made \"Bldg.Type_2fmCon\", \"Bldg.Type_Duplex\", \"Bldg.Type_Twnhs\", \"Bldg.Type_TwnhsE\"\n",
      "\n",
      "From column \"House.Style\" we made \"House.Style_1.5Unf\", \"House.Style_1Story\", \"House.Style_2.5Fin\", \"House.Style_2.5Unf\", \"House.Style_2Story\", \"House.Style_SFoyer\", \"House.Style_SLvl\"\n",
      "\n",
      "From column \"Roof.Style\" we made \"Roof.Style_Hip\", \"Roof.Style_Other\"\n",
      "\n",
      "From column \"Mas.Vnr.Type\" we made \"Mas.Vnr.Type_Stone\", \"Mas.Vnr.Type_Other\", \"Mas.Vnr.Type_None\"\n",
      "\n",
      "From column \"Foundation\" we made \"Foundation_CBlock\", \"Foundation_PConc\", \"Foundation_Other\"\n",
      "\n",
      "From column \"Bsmt.Qual\" we made \"Bsmt.Qual_Gd\", \"Bsmt.Qual_TA\", \"Bsmt.Qual_Fa\", \"Bsmt.Qual_NA\"\n",
      "\n",
      "From column \"Bsmt.Cond\" we made \"Bsmt.Cond_TA\", \"Bsmt.Cond_Fa\", \"Bsmt.Cond_NA\"\n",
      "\n",
      "From column \"Bsmt.Exposure\" we made \"Bsmt.Exposure_Av\", \"Bsmt.Exposure_Mn\", \"Bsmt.Exposure_No\", \"Bsmt.Exposure_NA\"\n",
      "\n",
      "From column \"BsmtFin.Type.1\" we made \"BsmtFin.Type.1_ALQ\", \"BsmtFin.Type.1_BLQ\", \"BsmtFin.Type.1_Rec\", \"BsmtFin.Type.1_LwQ\", \"BsmtFin.Type.1_Unf\", \"BsmtFin.Type.1_NA\"\n",
      "\n",
      "From column \"BsmtFin.Type.2\" we made \"BsmtFin.Type.2_ALQ\", \"BsmtFin.Type.2_BLQ\", \"BsmtFin.Type.2_Rec\", \"BsmtFin.Type.2_LwQ\", \"BsmtFin.Type.2_Unf\", \"BsmtFin.Type.2_NA\"\n",
      "\n",
      "From column \"Central.Air\" we made \"Central.Air_Y\"\n",
      "\n",
      "From column \"Garage.Type\" we made \"Garage.Type_Attchd\", \"Garage.Type_Basment\", \"Garage.Type_BuiltIn\", \"Garage.Type_CarPort\", \"Garage.Type_Detchd\"\n",
      "\n",
      "From column \"Garage.Finish\" we made \"Garage.Finish_RFn\", \"Garage.Finish_Unf\"\n",
      "\n",
      "From column \"Sale.Type\" we made \"Sale.Type_GroupedWD\", \"Sale.Type_Other\"\n",
      "\n",
      "From column \"Sale.Condition\" we made \"Sale.Condition_AdjLand\", \"Sale.Condition_Alloca\", \"Sale.Condition_Family\", \"Sale.Condition_Normal\", \"Sale.Condition_Partial\"\n",
      "\n",
      "From column \"Condition\" we made \"Condition_Railroad\", \"Condition_Roads\", \"Condition_Positive\", \"Condition_RoadsAndRailroad\"\n",
      "\n",
      "From column \"Exterior\" we made \"Exterior_BrkFace\", \"Exterior_CemntBd\", \"Exterior_HdBoard\", \"Exterior_MetalSd\", \"Exterior_Plywood\", \"Exterior_Stucco\", \"Exterior_VinylSd\", \"Exterior_Wd Sdng\", \"Exterior_WdShing\", \"Exterior_Other\"\n",
      "\n"
     ]
    }
   ],
   "source": [
    "for cat in categorical_columns:\n",
    "    dummies = []\n",
    "    for col in model_data.columns:\n",
    "        if col.startswith(cat + \"_\"):\n",
    "            dummies.append(f'\"{col}\"')\n",
    "    dummies_str = ', '.join(dummies)\n",
    "    print(f'From column \"{cat}\" we made {dummies_str}\\n')"
   ]
  },
  {
   "cell_type": "markdown",
   "metadata": {},
   "source": [
    "## Separação dos dados de trenainamento e teste"
   ]
  },
  {
   "cell_type": "code",
   "execution_count": 13,
   "metadata": {},
   "outputs": [],
   "source": [
    "X = model_data.drop(columns=['SalePrice']).copy()\n",
    "y = model_data['SalePrice'].copy()"
   ]
  },
  {
   "cell_type": "code",
   "execution_count": 14,
   "metadata": {},
   "outputs": [
    {
     "data": {
      "text/plain": [
       "(array([[141.0, 31770.0, 1, ..., False, False, False],\n",
       "        [80.0, 11622.0, 0, ..., False, False, False],\n",
       "        [81.0, 14267.0, 1, ..., True, False, False],\n",
       "        ...,\n",
       "        [68.0, 8885.0, 1, ..., False, False, False],\n",
       "        [77.0, 10010.0, 0, ..., False, False, False],\n",
       "        [74.0, 9627.0, 0, ..., False, False, False]], dtype=object),\n",
       " array([5.33243846, 5.0211893 , 5.23552845, ..., 5.1172713 , 5.23044892,\n",
       "        5.27415785]))"
      ]
     },
     "execution_count": 14,
     "metadata": {},
     "output_type": "execute_result"
    }
   ],
   "source": [
    "X.values, y.values"
   ]
  },
  {
   "cell_type": "code",
   "execution_count": 15,
   "metadata": {},
   "outputs": [],
   "source": [
    "from sklearn.model_selection import train_test_split\n",
    "RANDOM_SEED = 42  # Any number here, really.\n",
    "Xtrain, Xtest, ytrain, ytest = train_test_split(\n",
    "    X,\n",
    "    y,\n",
    "    test_size=0.25,\n",
    "    random_state=RANDOM_SEED,\n",
    ")"
   ]
  },
  {
   "cell_type": "markdown",
   "metadata": {},
   "source": [
    "## Treinando modelos para encontrar os melhores hiperparâmetros"
   ]
  },
  {
   "cell_type": "code",
   "execution_count": 16,
   "metadata": {},
   "outputs": [],
   "source": [
    "from sklearn.pipeline import Pipeline\n",
    "from sklearn.preprocessing import StandardScaler\n",
    "from sklearn.linear_model import LinearRegression, Ridge, Lasso\n",
    "from sklearn.ensemble import GradientBoostingRegressor, RandomForestRegressor\n",
    "\n",
    "from sklearn.model_selection import cross_val_score\n",
    "\n",
    "from sklearn.model_selection import GridSearchCV\n",
    "from sklearn.metrics import mean_squared_error"
   ]
  },
  {
   "cell_type": "markdown",
   "metadata": {},
   "source": [
    "### Rigde"
   ]
  },
  {
   "cell_type": "code",
   "execution_count": 17,
   "metadata": {},
   "outputs": [],
   "source": [
    "# gs_ridge = GridSearchCV( estimator = Ridge(random_state=RANDOM_SEED),\n",
    "#                             param_grid = {\n",
    "#                                 'alpha': np.logspace(-3, 3, 7),\n",
    "#                                 'fit_intercept': [True, False],\n",
    "#                                 'solver': ['auto', 'svd', 'cholesky', 'lsqr', 'sparse_cg', 'sag', 'saga'],\n",
    "#                                 'tol': [1e-3, 1e-4, 1e-5],\n",
    "\n",
    "#                                           },\n",
    "#                             cv = 5,\n",
    "#                             n_jobs = -1)\n",
    "\n",
    "# gs_ridge.fit(Xtrain, ytrain)\n",
    "# print(gs_ridge.best_params_)"
   ]
  },
  {
   "cell_type": "markdown",
   "metadata": {},
   "source": [
    "{'alpha': 10.0, 'fit_intercept': True, 'solver': 'svd', 'tol': 0.001}"
   ]
  },
  {
   "cell_type": "markdown",
   "metadata": {},
   "source": [
    "### Lasso"
   ]
  },
  {
   "cell_type": "code",
   "execution_count": 18,
   "metadata": {},
   "outputs": [],
   "source": [
    "# gs_lasso = GridSearchCV( estimator = Lasso(random_state=RANDOM_SEED),\n",
    "#                             param_grid = {\n",
    "#                                     'alpha': [0.00001, 0.0001, 0.001, 0.01],\n",
    "#                                     'fit_intercept': [True, False],\n",
    "#                                     'max_iter': [250,500, 1000, 5000, 10000,100000]\n",
    "#                                           },\n",
    "#                             cv = 5,\n",
    "#                             n_jobs = -1)\n",
    "\n",
    "# gs_lasso.fit(Xtrain, ytrain)\n",
    "# print(gs_lasso.best_params_)"
   ]
  },
  {
   "cell_type": "markdown",
   "metadata": {},
   "source": [
    "{'alpha': 0.0001, 'fit_intercept': True, 'max_iter': 100000}"
   ]
  },
  {
   "cell_type": "markdown",
   "metadata": {},
   "source": [
    "### Gradient Boosting"
   ]
  },
  {
   "cell_type": "code",
   "execution_count": 19,
   "metadata": {},
   "outputs": [],
   "source": [
    "# gs_gradient_booting = GridSearchCV( estimator = GradientBoostingRegressor(random_state=RANDOM_SEED),\n",
    "#                             param_grid = {'n_estimators': [500, 1000, 2000],\n",
    "#                                           'max_depth': [1, 2, 3, 4],\n",
    "#                                           'learning_rate': [0.1, 0.01, 0.001],\n",
    "#                                           },\n",
    "#                             cv = 5,\n",
    "#                             n_jobs = -1)\n",
    "\n",
    "# gs_gradient_booting.fit(Xtrain, ytrain)\n",
    "# print(gs_gradient_booting.best_params_)"
   ]
  },
  {
   "cell_type": "markdown",
   "metadata": {},
   "source": [
    "{'learning_rate': 0.01, 'max_depth': 4, 'n_estimators': 2000}"
   ]
  },
  {
   "cell_type": "markdown",
   "metadata": {},
   "source": [
    "### Random Forest Regressor"
   ]
  },
  {
   "cell_type": "code",
   "execution_count": 20,
   "metadata": {},
   "outputs": [],
   "source": [
    "\n",
    "# gs_random = GridSearchCV( estimator = RandomForestRegressor(random_state=RANDOM_SEED),\n",
    "#                             param_grid = {\n",
    "#                                 'n_estimators': [500, 1000, 2000],\n",
    "#                                 'max_depth': [1, 2, 3, 4],\n",
    "#                                           },\n",
    "#                             cv = 5,\n",
    "#                             n_jobs = -1)\n",
    "\n",
    "# gs_random.fit(Xtrain, ytrain)\n",
    "# print(gs_random.best_params_)"
   ]
  },
  {
   "cell_type": "markdown",
   "metadata": {},
   "source": [
    "{'max_depth': 4, 'n_estimators': 2000}"
   ]
  },
  {
   "cell_type": "markdown",
   "metadata": {},
   "source": [
    "## Comparando os modelos com validação cruzada"
   ]
  },
  {
   "cell_type": "markdown",
   "metadata": {},
   "source": [
    "### Sem treinamento dos hiperparâmetros"
   ]
  },
  {
   "cell_type": "code",
   "execution_count": 26,
   "metadata": {},
   "outputs": [
    {
     "name": "stderr",
     "output_type": "stream",
     "text": [
      "C:\\Users\\livia\\AppData\\Local\\Temp\\ipykernel_2488\\3749958832.py:10: RuntimeWarning: overflow encountered in scalar power\n",
      "  return 100 * (10**np.sqrt(-score) - 1)\n"
     ]
    },
    {
     "name": "stdout",
     "output_type": "stream",
     "text": [
      "Model: Linear Regression - Error: min 8.51%, max inf%  => Mean Error inf)\n",
      "Model: Ridge - Error: min 8.50%, max 14.85%  => Mean Error 11.29)\n",
      "Model: Lasso - Error: min 43.22%, max 51.63%  => Mean Error 47.55)\n",
      "Model: Gradient Boosting - Error: min 8.92%, max 16.51%  => Mean Error 12.25)\n",
      "Model: Random Forest - Error: min 10.18%, max 17.18%  => Mean Error 13.53)\n"
     ]
    }
   ],
   "source": [
    "models = {\n",
    "    \"Linear Regression\": LinearRegression(),\n",
    "    \"Ridge\": Ridge(random_state=RANDOM_SEED),\n",
    "    \"Lasso\": Lasso(random_state=RANDOM_SEED),\n",
    "    \"Gradient Boosting\": GradientBoostingRegressor(random_state=RANDOM_SEED),\n",
    "    \"Random Forest\": RandomForestRegressor(random_state=RANDOM_SEED)\n",
    "}\n",
    "\n",
    "def erro_percentual(score):\n",
    "    return 100 * (10**np.sqrt(-score) - 1)\n",
    "\n",
    "model_scores_plain = {}\n",
    "\n",
    "for model_name, model in models.items():\n",
    "    # Criando o pipeline com normalização e o modelo\n",
    "    pipeline = Pipeline([\n",
    "        ('scaler', StandardScaler()), \n",
    "        ('model', model)\n",
    "    ])\n",
    "\n",
    "\n",
    "    # Validação Cruzada\n",
    "    scores = cross_val_score(pipeline, Xtrain, ytrain, \n",
    "                                    scoring=\"neg_mean_squared_error\", cv=8, n_jobs=-1)\n",
    "    \n",
    "    model_scores_plain[model_name] = scores\n",
    "    \n",
    "\n",
    "    # Calculando o erro percentual\n",
    "    error_percent_min = erro_percentual(scores.max())\n",
    "    error_percent_max = erro_percentual(scores.min())\n",
    "    error_percent_mean = erro_percentual(scores.mean())\n",
    "\n",
    "    \n",
    "    # Imprimindo o resultado\n",
    "    print(f'Model: {model_name} - Error: min {error_percent_min:.2f}%, max {error_percent_max:.2f}%  => Mean Error {error_percent_mean:.2f})')\n"
   ]
  },
  {
   "cell_type": "markdown",
   "metadata": {},
   "source": [
    "### Com treinamento dos hiperparâmetros"
   ]
  },
  {
   "cell_type": "code",
   "execution_count": 27,
   "metadata": {},
   "outputs": [
    {
     "name": "stderr",
     "output_type": "stream",
     "text": [
      "C:\\Users\\livia\\AppData\\Local\\Temp\\ipykernel_2488\\23277567.py:10: RuntimeWarning: overflow encountered in scalar power\n",
      "  return 100 * (10**np.sqrt(-score) - 1)\n"
     ]
    },
    {
     "name": "stdout",
     "output_type": "stream",
     "text": [
      "Model: Linear Regression - Error: min 8.51%, max inf%  => Mean Error inf)\n",
      "Model: Ridge - Error: min 8.45%, max 14.86%  => Mean Error 1.1e+01)\n",
      "Model: Lasso - Error: min 8.50%, max 14.87%  => Mean Error 1.1e+01)\n",
      "Model: Gradient Boosting - Error: min 9.16%, max 15.46%  => Mean Error 1.2e+01)\n",
      "Model: Random Forest - Error: min 13.18%, max 20.33%  => Mean Error 1.7e+01)\n"
     ]
    }
   ],
   "source": [
    "models_gs = {\n",
    "    \"Linear Regression\": LinearRegression(),\n",
    "    \"Ridge\": Ridge(alpha= 10.0, fit_intercept= True, solver= 'svd', tol= 0.001, random_state=RANDOM_SEED),\n",
    "    \"Lasso\": Lasso(alpha=0.00001, fit_intercept=True, max_iter=100000, random_state=RANDOM_SEED),\n",
    "    \"Gradient Boosting\": GradientBoostingRegressor(n_estimators=2000, max_depth=4, learning_rate=0.1, random_state=RANDOM_SEED),\n",
    "    \"Random Forest\": RandomForestRegressor(random_state=RANDOM_SEED, n_estimators=2000, max_depth=4)\n",
    "}\n",
    "\n",
    "def erro_percentual(score):\n",
    "    return 100 * (10**np.sqrt(-score) - 1)\n",
    "\n",
    "model_scores = {}\n",
    "pipelines = []\n",
    "\n",
    "for model_name, model in models_gs.items():\n",
    "    # Criando o pipeline com normalização e o modelo\n",
    "    pipeline = Pipeline([\n",
    "        ('scaler', StandardScaler()), \n",
    "        ('model', model)\n",
    "    ])\n",
    "\n",
    "    pipelines.append(pipeline)\n",
    "\n",
    "\n",
    "    # Validação Cruzada\n",
    "    scores = cross_val_score(pipeline, Xtrain, ytrain, \n",
    "                                    scoring=\"neg_mean_squared_error\", cv=8, n_jobs=-1)\n",
    "    \n",
    "    model_scores[model_name] = scores\n",
    "    \n",
    "\n",
    "    # Calculando o erro percentual\n",
    "    error_percent_min = erro_percentual(scores.max())\n",
    "    error_percent_max = erro_percentual(scores.min())\n",
    "    error_percent_mean = erro_percentual(scores.mean())\n",
    "\n",
    "    \n",
    "    # Imprimindo o resultado\n",
    "    print(f'Model: {model_name} - Error: min {error_percent_min:.2f}%, max {error_percent_max:.2f}%  => Mean Error {error_percent_mean:.2f}')"
   ]
  },
  {
   "cell_type": "code",
   "execution_count": 28,
   "metadata": {},
   "outputs": [],
   "source": [
    "# código para gerar os modelos para a API\n",
    "\n",
    "# import joblib\n",
    "\n",
    "# model_names = [\"linear_regression\", \"ridge\", \"lasso\", \"gradient_boosting\", \"random_forest\"]\n",
    "\n",
    "# for model_name, pipeline in zip(model_names, pipelines):\n",
    "#     pipeline.fit(Xtrain, ytrain)\n",
    "#     joblib.dump(pipeline, f\"{model_name}.joblib\")"
   ]
  },
  {
   "cell_type": "code",
   "execution_count": 29,
   "metadata": {},
   "outputs": [
    {
     "name": "stderr",
     "output_type": "stream",
     "text": [
      "C:\\Users\\livia\\AppData\\Local\\Temp\\ipykernel_2488\\23277567.py:10: RuntimeWarning: overflow encountered in scalar power\n",
      "  return 100 * (10**np.sqrt(-score) - 1)\n",
      "C:\\Users\\livia\\AppData\\Local\\Temp\\ipykernel_2488\\23277567.py:10: RuntimeWarning: overflow encountered in scalar power\n",
      "  return 100 * (10**np.sqrt(-score) - 1)\n"
     ]
    },
    {
     "data": {
      "text/html": [
       "<div>\n",
       "<style scoped>\n",
       "    .dataframe tbody tr th:only-of-type {\n",
       "        vertical-align: middle;\n",
       "    }\n",
       "\n",
       "    .dataframe tbody tr th {\n",
       "        vertical-align: top;\n",
       "    }\n",
       "\n",
       "    .dataframe thead th {\n",
       "        text-align: right;\n",
       "    }\n",
       "</style>\n",
       "<table border=\"1\" class=\"dataframe\">\n",
       "  <thead>\n",
       "    <tr style=\"text-align: right;\">\n",
       "      <th></th>\n",
       "      <th>Model</th>\n",
       "      <th>With Grid Search</th>\n",
       "      <th>Without Grid Search</th>\n",
       "    </tr>\n",
       "  </thead>\n",
       "  <tbody>\n",
       "    <tr>\n",
       "      <th>0</th>\n",
       "      <td>Linear Regression</td>\n",
       "      <td>inf</td>\n",
       "      <td>inf</td>\n",
       "    </tr>\n",
       "    <tr>\n",
       "      <th>1</th>\n",
       "      <td>Ridge</td>\n",
       "      <td>11.207555</td>\n",
       "      <td>11.293068</td>\n",
       "    </tr>\n",
       "    <tr>\n",
       "      <th>2</th>\n",
       "      <td>Lasso</td>\n",
       "      <td>11.293285</td>\n",
       "      <td>47.551068</td>\n",
       "    </tr>\n",
       "    <tr>\n",
       "      <th>3</th>\n",
       "      <td>Gradient Boosting</td>\n",
       "      <td>11.959402</td>\n",
       "      <td>12.249640</td>\n",
       "    </tr>\n",
       "    <tr>\n",
       "      <th>4</th>\n",
       "      <td>Random Forest</td>\n",
       "      <td>17.012160</td>\n",
       "      <td>13.531780</td>\n",
       "    </tr>\n",
       "  </tbody>\n",
       "</table>\n",
       "</div>"
      ],
      "text/plain": [
       "               Model  With Grid Search  Without Grid Search\n",
       "0  Linear Regression               inf                  inf\n",
       "1              Ridge         11.207555            11.293068\n",
       "2              Lasso         11.293285            47.551068\n",
       "3  Gradient Boosting         11.959402            12.249640\n",
       "4      Random Forest         17.012160            13.531780"
      ]
     },
     "execution_count": 29,
     "metadata": {},
     "output_type": "execute_result"
    }
   ],
   "source": [
    "comparativo = pd.DataFrame()\n",
    "comparativo['Model'] = model_scores.keys()\n",
    "with_grid_search = [erro_percentual(scores.mean()) for scores in model_scores.values()]\n",
    "comparativo['With Grid Search'] = with_grid_search\n",
    "\n",
    "without_grid_search = [erro_percentual(scores.mean()) for scores in model_scores_plain.values()]\n",
    "\n",
    "comparativo['Without Grid Search'] = without_grid_search\n",
    "comparativo.head()"
   ]
  },
  {
   "cell_type": "markdown",
   "metadata": {},
   "source": [
    "A partir desses resultados podemos chegar em algumas conclusões:\n",
    "\n",
    "O treinamento dos hiperparâmetros diminui a taxa de erros do *Ridge*, o *Lasso* e o *Gradient Boosting*, porém a que foi mais siginificativa foi a diminuição de mais de 20% do *Lasso*. Já em relação ao *Random Forest*, houve um aumento na taxa de erro.\n",
    "\n",
    "Vamos seguir as análises com o *Ridge*, o *Lasso* e o *Gradient Boosting*, posto que:\n",
    "* A taxa de erro do linear regression em certo caso pode tender ao infinito, o que torna arriscado o uso desse modelo;\n",
    "* A taxa de erro do Random Forest é consideravelmente maior que os demais;\n",
    "* A taxa de erros entre os outros três modelos está dentro de uma faixa pequena de diferença, ou seja, é necessário realizar mais testes comparativos para selecionar o modelo final."
   ]
  },
  {
   "cell_type": "markdown",
   "metadata": {},
   "source": [
    "## Teste de hipótese\n",
    "\n",
    "**Pergunta:**  \"Será que o desempenho médio (ou seja, $\\overline{\\text{RMSE}}$) de algum dos modelos é superior ao desempenho médio dos demais modelos de regressão?\"\n",
    "\n",
    "Para os seguintes teste, vamos adotar um nível de significância $\\alpha$ de $0.01$ ($1 \\%$) e nomear as médias populacionais do RSME de cada um dos modelos como $\\mu_{\\text{R}}$ (Ridge), $\\mu_{\\text{L}}$ (Lasso) e $\\mu_{\\text{GB}}$ (Gradient Boosting)"
   ]
  },
  {
   "cell_type": "markdown",
   "metadata": {},
   "source": [
    "### Teste U de Mann-Whitney\n",
    "\n"
   ]
  },
  {
   "cell_type": "code",
   "execution_count": 30,
   "metadata": {},
   "outputs": [],
   "source": [
    "from scipy.stats import mannwhitneyu\n",
    "def rmse_score(score): return np.sqrt(-score)"
   ]
  },
  {
   "cell_type": "markdown",
   "metadata": {},
   "source": [
    "#### Ridge vs Lasso\n",
    "\n",
    "*Teste #1*: Comparar *Ridge* com *Lasso*.\n",
    "\n",
    "*Hipótese nula* $H_0$: $\\mu_{\\text{R}} = \\mu_{\\text{L}}$\n",
    "\n",
    "*Hipótese alternativa* $H_1$: $\\mu_{\\text{R}} \\neq \\mu_{\\text{L}}$"
   ]
  },
  {
   "cell_type": "code",
   "execution_count": 31,
   "metadata": {},
   "outputs": [
    {
     "name": "stdout",
     "output_type": "stream",
     "text": [
      "p-value: 0.5053613053613053\n"
     ]
    }
   ],
   "source": [
    "U, pvalue = mannwhitneyu(rmse_score(model_scores['Ridge']), rmse_score(model_scores['Lasso']))\n",
    "print(\"p-value: {0}\".format(pvalue))\n"
   ]
  },
  {
   "cell_type": "markdown",
   "metadata": {},
   "source": [
    "#### Ridge vs Gradient Boosting\n",
    "\n",
    "\n",
    "*Teste #2*: Comparar *Ridge* com *Gradient Boosting*.\n",
    "\n",
    "*Hipótese nula* $H_0$: $\\mu_{\\text{R}} = \\mu_{\\text{GB}}$\n",
    "\n",
    "*Hipótese alternativa* $H_1$: $\\mu_{\\text{R}} \\neq \\mu_{\\text{GB}}$"
   ]
  },
  {
   "cell_type": "code",
   "execution_count": 32,
   "metadata": {},
   "outputs": [
    {
     "name": "stdout",
     "output_type": "stream",
     "text": [
      "p-value: 0.1605283605283605\n"
     ]
    }
   ],
   "source": [
    "U, pvalue = mannwhitneyu(rmse_score(model_scores['Ridge']), rmse_score(model_scores['Gradient Boosting']))\n",
    "print(\"p-value: {0}\".format(pvalue))"
   ]
  },
  {
   "cell_type": "markdown",
   "metadata": {},
   "source": [
    "#### Lasso vs Gradient Boosting\n",
    "\n",
    "\n",
    "*Teste #3*: Comparar *Lasso* com *Gradient Boosting*.\n",
    "\n",
    "*Hipótese nula* $H_0$: $\\mu_{\\text{L}} = \\mu_{\\text{GB}}$\n",
    "\n",
    "*Hipótese alternativa* $H_1$: $\\mu_{\\text{L}} \\neq \\mu_{\\text{GB}}$"
   ]
  },
  {
   "cell_type": "code",
   "execution_count": 33,
   "metadata": {},
   "outputs": [
    {
     "name": "stdout",
     "output_type": "stream",
     "text": [
      "p-value: 0.1605283605283605\n"
     ]
    }
   ],
   "source": [
    "U, pvalue = mannwhitneyu(rmse_score(model_scores['Lasso']), rmse_score(model_scores['Gradient Boosting']))\n",
    "print(\"p-value: {0}\".format(pvalue))"
   ]
  },
  {
   "cell_type": "markdown",
   "metadata": {},
   "source": [
    "Como nenhum dos p-valores dos testes realizados teve um valor maior do que $\\alpha=0.01$, então não podemos refutar a hipótese nula de que seus desempenhos são iguais. Desse modo, pode-se concluir que não há um nível de diferença entre os modelos grande o suficiente para que seja aparente no teste de hipótese realizado"
   ]
  },
  {
   "cell_type": "markdown",
   "metadata": {},
   "source": [
    "## Avaliação final de desempenho\n",
    "\n",
    "Como não foi possível encontrar uma diferença significativa entre os três modelos, vamos treinar ambos com o conjunto total de treino e calcular a taxa de erro com o conjunto de teste."
   ]
  },
  {
   "cell_type": "code",
   "execution_count": 34,
   "metadata": {},
   "outputs": [
    {
     "name": "stdout",
     "output_type": "stream",
     "text": [
      "Modelo: Ridge -> Erro médio: 9.97618%\n",
      "Modelo: Lasso -> Erro médio: 9.98422%\n",
      "Modelo: Gradient Boosting -> Erro médio: 10.84616%\n"
     ]
    }
   ],
   "source": [
    "scaler = StandardScaler()\n",
    "Xtrain = scaler.fit_transform(Xtrain)\n",
    "Xtest = scaler.fit_transform(Xtest)\n",
    "\n",
    "\n",
    "\n",
    "final_ridge = Ridge(alpha= 10.0, fit_intercept= True, solver= 'svd', tol= 0.001, random_state=RANDOM_SEED)\n",
    "final_lasso = Lasso(alpha=0.00001, fit_intercept=True, max_iter=100000, random_state=RANDOM_SEED)\n",
    "final_gradient_boosting = GradientBoostingRegressor(n_estimators=2000, max_depth=4, learning_rate=0.1, random_state=RANDOM_SEED)\n",
    "\n",
    "finals = {\n",
    "    'Ridge': final_ridge, \n",
    "    'Lasso': final_lasso, \n",
    "    'Gradient Boosting': final_gradient_boosting\n",
    "    }\n",
    "\n",
    "for nome, m in finals.items():\n",
    "    # Ajustando o modelo\n",
    "    m.fit(Xtrain, ytrain)\n",
    "\n",
    "    # Fazendo previsões\n",
    "    ypred = m.predict(Xtest)\n",
    "\n",
    "    # Calculando o RMSE\n",
    "    RMSE = np.sqrt(mean_squared_error(ytest, ypred))\n",
    "\n",
    "    # Calculando o erro percentual\n",
    "    error_percent = 100 * (10**RMSE - 1)\n",
    "\n",
    "    # Imprimindo o resultado\n",
    "    print(f'Modelo: {nome} -> Erro médio: {error_percent:.5f}%')"
   ]
  },
  {
   "cell_type": "markdown",
   "metadata": {},
   "source": [
    "A diferença entre os modelos segue sendo muito baixa, além de que mesmo que o Ridge possua a menor taxa de erro com o conjunto de teste não siginifica necessarimente que o seu desempenho é melhor que os dos demais modelos em todas as situações, já que aqui apenas foi testado com um conjunto limitado de dados. Para a continuação de nossa análise, vamos adotar o Rigde como o modelo final."
   ]
  },
  {
   "cell_type": "code",
   "execution_count": 35,
   "metadata": {},
   "outputs": [],
   "source": [
    "final_model = finals['Ridge']"
   ]
  },
  {
   "cell_type": "markdown",
   "metadata": {},
   "source": [
    "## Importância das features"
   ]
  },
  {
   "cell_type": "code",
   "execution_count": 36,
   "metadata": {},
   "outputs": [
    {
     "data": {
      "text/plain": [
       "[(0.02785072220901843, 'Overall.Qual'),\n",
       " (0.02269282415420515, 'TotalSFLog'),\n",
       " (0.019703489161962618, 'Overall.Cond'),\n",
       " (0.018721398803690753, 'Gr.Liv.Area'),\n",
       " (0.012624178205388312, 'Sale.Condition_Normal'),\n",
       " (-0.01239247813396684, 'House.Age'),\n",
       " (0.012333385214885556, 'Year.Built'),\n",
       " (0.01208925873637279, 'Exterior_VinylSd'),\n",
       " (0.01126149527593662, 'X1st.Flr.SF'),\n",
       " (0.011161712895193365, 'X2nd.Flr.SF')]"
      ]
     },
     "execution_count": 36,
     "metadata": {},
     "output_type": "execute_result"
    }
   ],
   "source": [
    "# lista de features\n",
    "attributes = list(X.columns) \n",
    "\n",
    "# lista os pesos de cada uma das features de acordo com o modelo final\n",
    "feature_importances = final_model.coef_ \n",
    "\n",
    "# ordena as features de acordo com o valor absoluto do peso e seleciona as 10 primeiras\n",
    "top_10 = sorted(zip(feature_importances, attributes), key=lambda x: abs(x[0]), reverse=True)[:10]\n",
    "\n",
    "# {nome da feature: peso da feature}\n",
    "ranking = {top_10[i][1]: top_10[i][0] for i in range(len(top_10))}\n",
    "top_10"
   ]
  },
  {
   "cell_type": "code",
   "execution_count": 37,
   "metadata": {},
   "outputs": [
    {
     "data": {
      "image/png": "[encoded data removed]",
      "text/plain": [
       "<Figure size 800x600 with 1 Axes>"
      ]
     },
     "metadata": {},
     "output_type": "display_data"
    }
   ],
   "source": [
    "# fonte: https://www.analyseup.com/learn-python-for-data-science/python-random-forest-feature-importance-plot.html\n",
    "\n",
    "import matplotlib.pyplot as plt\n",
    "import seaborn as sns\n",
    "\n",
    "\n",
    "plt.figure(figsize=(8,6))\n",
    "\n",
    "sns.barplot(x=ranking.values(), y=ranking.keys())\n",
    "\n",
    "plt.title('Peso das features para o modelo final')\n",
    "plt.xlabel('Peso')\n",
    "plt.ylabel('Feature')\n",
    "plt.show()"
   ]
  },
  {
   "cell_type": "markdown",
   "metadata": {},
   "source": [
    "O gráfico acima representa as 10 features que com maior peso no modelo final. Seu peso para o modelo representa a importância que esssas features possuem na determinação do preço do imóvel. Essa importância pode significar diferentes tipos relações com o preço do imóvel.\n",
    "\n",
    "Por exemplo, pode-se notar pelo gráfico abaixo que a Overall.Qual está diretamente relacionada com o preço do imóvel, posto que quanto maior a sua nota de qualidade, maior o preço.\n",
    "\n"
   ]
  },
  {
   "cell_type": "code",
   "execution_count": 38,
   "metadata": {},
   "outputs": [
    {
     "data": {
      "text/plain": [
       "<Figure size 640x480 with 0 Axes>"
      ]
     },
     "metadata": {},
     "output_type": "display_data"
    },
    {
     "data": {
      "image/png": "[encoded data removed]",
      "text/plain": [
       "<Figure size 640x480 with 1 Axes>"
      ]
     },
     "metadata": {},
     "output_type": "display_data"
    }
   ],
   "source": [
    "plt.figure()\n",
    "aux_dataframe = model_data[['Overall.Qual', 'SalePrice']]\n",
    "aux_dataframe.plot.box(by='Overall.Qual')\n",
    "plt.title('Distribuição de Overall.Qual pelo preço')\n",
    "plt.xlabel('Overall.Qual')\n",
    "plt.ylabel('SalePrice')\n",
    "plt.show()"
   ]
  },
  {
   "cell_type": "markdown",
   "metadata": {},
   "source": [
    "## Treinamento final\n",
    "\n",
    "Treinamento do modelo com o conjunto completo de dados"
   ]
  },
  {
   "cell_type": "code",
   "execution_count": 39,
   "metadata": {},
   "outputs": [
    {
     "data": {
      "text/html": [
       "<style>#sk-container-id-1 {color: black;}#sk-container-id-1 pre{padding: 0;}#sk-container-id-1 div.sk-toggleable {background-color: white;}#sk-container-id-1 label.sk-toggleable__label {cursor: pointer;display: block;width: 100%;margin-bottom: 0;padding: 0.3em;box-sizing: border-box;text-align: center;}#sk-container-id-1 label.sk-toggleable__label-arrow:before {content: \"▸\";float: left;margin-right: 0.25em;color: #696969;}#sk-container-id-1 label.sk-toggleable__label-arrow:hover:before {color: black;}#sk-container-id-1 div.sk-estimator:hover label.sk-toggleable__label-arrow:before {color: black;}#sk-container-id-1 div.sk-toggleable__content {max-height: 0;max-width: 0;overflow: hidden;text-align: left;background-color: #f0f8ff;}#sk-container-id-1 div.sk-toggleable__content pre {margin: 0.2em;color: black;border-radius: 0.25em;background-color: #f0f8ff;}#sk-container-id-1 input.sk-toggleable__control:checked~div.sk-toggleable__content {max-height: 200px;max-width: 100%;overflow: auto;}#sk-container-id-1 input.sk-toggleable__control:checked~label.sk-toggleable__label-arrow:before {content: \"▾\";}#sk-container-id-1 div.sk-estimator input.sk-toggleable__control:checked~label.sk-toggleable__label {background-color: #d4ebff;}#sk-container-id-1 div.sk-label input.sk-toggleable__control:checked~label.sk-toggleable__label {background-color: #d4ebff;}#sk-container-id-1 input.sk-hidden--visually {border: 0;clip: rect(1px 1px 1px 1px);clip: rect(1px, 1px, 1px, 1px);height: 1px;margin: -1px;overflow: hidden;padding: 0;position: absolute;width: 1px;}#sk-container-id-1 div.sk-estimator {font-family: monospace;background-color: #f0f8ff;border: 1px dotted black;border-radius: 0.25em;box-sizing: border-box;margin-bottom: 0.5em;}#sk-container-id-1 div.sk-estimator:hover {background-color: #d4ebff;}#sk-container-id-1 div.sk-parallel-item::after {content: \"\";width: 100%;border-bottom: 1px solid gray;flex-grow: 1;}#sk-container-id-1 div.sk-label:hover label.sk-toggleable__label {background-color: #d4ebff;}#sk-container-id-1 div.sk-serial::before {content: \"\";position: absolute;border-left: 1px solid gray;box-sizing: border-box;top: 0;bottom: 0;left: 50%;z-index: 0;}#sk-container-id-1 div.sk-serial {display: flex;flex-direction: column;align-items: center;background-color: white;padding-right: 0.2em;padding-left: 0.2em;position: relative;}#sk-container-id-1 div.sk-item {position: relative;z-index: 1;}#sk-container-id-1 div.sk-parallel {display: flex;align-items: stretch;justify-content: center;background-color: white;position: relative;}#sk-container-id-1 div.sk-item::before, #sk-container-id-1 div.sk-parallel-item::before {content: \"\";position: absolute;border-left: 1px solid gray;box-sizing: border-box;top: 0;bottom: 0;left: 50%;z-index: -1;}#sk-container-id-1 div.sk-parallel-item {display: flex;flex-direction: column;z-index: 1;position: relative;background-color: white;}#sk-container-id-1 div.sk-parallel-item:first-child::after {align-self: flex-end;width: 50%;}#sk-container-id-1 div.sk-parallel-item:last-child::after {align-self: flex-start;width: 50%;}#sk-container-id-1 div.sk-parallel-item:only-child::after {width: 0;}#sk-container-id-1 div.sk-dashed-wrapped {border: 1px dashed gray;margin: 0 0.4em 0.5em 0.4em;box-sizing: border-box;padding-bottom: 0.4em;background-color: white;}#sk-container-id-1 div.sk-label label {font-family: monospace;font-weight: bold;display: inline-block;line-height: 1.2em;}#sk-container-id-1 div.sk-label-container {text-align: center;}#sk-container-id-1 div.sk-container {/* jupyter's `normalize.less` sets `[hidden] { display: none; }` but bootstrap.min.css set `[hidden] { display: none !important; }` so we also need the `!important` here to be able to override the default hidden behavior on the sphinx rendered scikit-learn.org. See: https://github.com/scikit-learn/scikit-learn/issues/21755 */display: inline-block !important;position: relative;}#sk-container-id-1 div.sk-text-repr-fallback {display: none;}</style><div id=\"sk-container-id-1\" class=\"sk-top-container\"><div class=\"sk-text-repr-fallback\"><pre>Ridge(alpha=10.0, random_state=42, solver=&#x27;svd&#x27;, tol=0.001)</pre><b>In a Jupyter environment, please rerun this cell to show the HTML representation or trust the notebook. <br />On GitHub, the HTML representation is unable to render, please try loading this page with nbviewer.org.</b></div><div class=\"sk-container\" hidden><div class=\"sk-item\"><div class=\"sk-estimator sk-toggleable\"><input class=\"sk-toggleable__control sk-hidden--visually\" id=\"sk-estimator-id-1\" type=\"checkbox\" checked><label for=\"sk-estimator-id-1\" class=\"sk-toggleable__label sk-toggleable__label-arrow\">Ridge</label><div class=\"sk-toggleable__content\"><pre>Ridge(alpha=10.0, random_state=42, solver=&#x27;svd&#x27;, tol=0.001)</pre></div></div></div></div></div>"
      ],
      "text/plain": [
       "Ridge(alpha=10.0, random_state=42, solver='svd', tol=0.001)"
      ]
     },
     "execution_count": 39,
     "metadata": {},
     "output_type": "execute_result"
    }
   ],
   "source": [
    "final_model.fit(X, y)"
   ]
  },
  {
   "cell_type": "markdown",
   "metadata": {},
   "source": [
    "## Conclusão\n",
    "\n",
    "É possível afirmar que o modelo final desenvolvido nesse projeto pode ser utilizado para estimar o preço de casas em Ames, assim servindo de base para serviços do setor imobiliário dessa cidade. Entretanto, o uso desse modelo em um sistema de produção deve ser com consciência da taxa de erro de cerca de 10%. Portanto, pode-se utilizar as previsões desse modelo como um direcionamento do valor do imóvel, assim ainda sendo necessário avaliar caso a caso com atenção."
   ]
  }
 ],
 "metadata": {
  "kernelspec": {
   "display_name": "env",
   "language": "python",
   "name": "python3"
  },
  "language_info": {
   "codemirror_mode": {
    "name": "ipython",
    "version": 3
   },
   "file_extension": ".py",
   "mimetype": "text/x-python",
   "name": "python",
   "nbconvert_exporter": "python",
   "pygments_lexer": "ipython3",
   "version": "3.11.3"
  },
  "orig_nbformat": 4
 },
 "nbformat": 4,
 "nbformat_minor": 2
}
