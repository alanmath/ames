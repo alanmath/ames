{
 "cells": [
  {
   "cell_type": "markdown",
   "metadata": {},
   "source": [
    "Importando bibliotecas"
   ]
  },
  {
   "cell_type": "code",
   "execution_count": 2,
   "metadata": {},
   "outputs": [],
   "source": [
    "import pickle\n",
    "import pathlib\n",
    "\n",
    "import numpy as np\n",
    "import pandas as pd"
   ]
  },
  {
   "cell_type": "markdown",
   "metadata": {},
   "source": [
    "#### Carregando base de dados com a feature engineering "
   ]
  },
  {
   "cell_type": "code",
   "execution_count": 3,
   "metadata": {},
   "outputs": [
    {
     "name": "stdout",
     "output_type": "stream",
     "text": [
      "c:\\Users\\livia\\OneDrive\\Área de Trabalho\\inspe\\4_semestre\\ml\\projeto\\ames\\data\n"
     ]
    }
   ],
   "source": [
    "DATA_DIR = pathlib.Path.cwd().parent / 'data'\n",
    "print(DATA_DIR)"
   ]
  },
  {
   "cell_type": "code",
   "execution_count": 4,
   "metadata": {},
   "outputs": [],
   "source": [
    "clean_data_path = DATA_DIR / 'processed' / 'ames_minha1.pkl'"
   ]
  },
  {
   "cell_type": "code",
   "execution_count": 5,
   "metadata": {},
   "outputs": [
    {
     "name": "stdout",
     "output_type": "stream",
     "text": [
      "<class 'pandas.core.frame.DataFrame'>\n",
      "Index: 2724 entries, 0 to 2929\n",
      "Data columns (total 80 columns):\n",
      " #   Column           Non-Null Count  Dtype   \n",
      "---  ------           --------------  -----   \n",
      " 0   MS.SubClass      2724 non-null   category\n",
      " 1   MS.Zoning        2724 non-null   category\n",
      " 2   Lot.Frontage     2724 non-null   float64 \n",
      " 3   Lot.Area         2724 non-null   float64 \n",
      " 4   Lot.Shape        2724 non-null   category\n",
      " 5   Land.Contour     2724 non-null   category\n",
      " 6   Lot.Config       2724 non-null   category\n",
      " 7   Land.Slope       2724 non-null   category\n",
      " 8   Neighborhood     2724 non-null   category\n",
      " 9   Bldg.Type        2724 non-null   category\n",
      " 10  House.Style      2724 non-null   category\n",
      " 11  Overall.Qual     2724 non-null   category\n",
      " 12  Overall.Cond     2724 non-null   category\n",
      " 13  Year.Built       2724 non-null   float64 \n",
      " 14  Roof.Style       2724 non-null   category\n",
      " 15  Mas.Vnr.Type     2724 non-null   category\n",
      " 16  Mas.Vnr.Area     2724 non-null   float64 \n",
      " 17  Exter.Qual       2724 non-null   category\n",
      " 18  Exter.Cond       2724 non-null   category\n",
      " 19  Foundation       2724 non-null   category\n",
      " 20  Bsmt.Qual        2724 non-null   category\n",
      " 21  Bsmt.Cond        2724 non-null   category\n",
      " 22  Bsmt.Exposure    2724 non-null   category\n",
      " 23  BsmtFin.Type.1   2724 non-null   category\n",
      " 24  BsmtFin.SF.1     2724 non-null   float64 \n",
      " 25  BsmtFin.Type.2   2724 non-null   category\n",
      " 26  BsmtFin.SF.2     2724 non-null   float64 \n",
      " 27  Bsmt.Unf.SF      2724 non-null   float64 \n",
      " 28  Total.Bsmt.SF    2724 non-null   float64 \n",
      " 29  Heating.QC       2724 non-null   category\n",
      " 30  Central.Air      2724 non-null   category\n",
      " 31  Electrical       2724 non-null   category\n",
      " 32  X1st.Flr.SF      2724 non-null   float64 \n",
      " 33  X2nd.Flr.SF      2724 non-null   float64 \n",
      " 34  Low.Qual.Fin.SF  2724 non-null   float64 \n",
      " 35  Gr.Liv.Area      2724 non-null   float64 \n",
      " 36  Bsmt.Full.Bath   2724 non-null   float64 \n",
      " 37  Bsmt.Half.Bath   2724 non-null   float64 \n",
      " 38  Full.Bath        2724 non-null   float64 \n",
      " 39  Half.Bath        2724 non-null   float64 \n",
      " 40  Bedroom.AbvGr    2724 non-null   float64 \n",
      " 41  Kitchen.AbvGr    2724 non-null   float64 \n",
      " 42  Kitchen.Qual     2724 non-null   category\n",
      " 43  TotRms.AbvGrd    2724 non-null   float64 \n",
      " 44  Functional       2724 non-null   category\n",
      " 45  Fireplaces       2724 non-null   float64 \n",
      " 46  Garage.Type      2724 non-null   category\n",
      " 47  Garage.Finish    2724 non-null   category\n",
      " 48  Garage.Cars      2724 non-null   float64 \n",
      " 49  Garage.Area      2724 non-null   float64 \n",
      " 50  Garage.Qual      2724 non-null   category\n",
      " 51  Garage.Cond      2724 non-null   category\n",
      " 52  Paved.Drive      2724 non-null   category\n",
      " 53  Wood.Deck.SF     2724 non-null   float64 \n",
      " 54  Open.Porch.SF    2724 non-null   float64 \n",
      " 55  Enclosed.Porch   2724 non-null   float64 \n",
      " 56  X3Ssn.Porch      2724 non-null   float64 \n",
      " 57  Screen.Porch     2724 non-null   float64 \n",
      " 58  Pool.Area        2724 non-null   float64 \n",
      " 59  Fence            2724 non-null   category\n",
      " 60  Misc.Val         2724 non-null   float64 \n",
      " 61  Mo.Sold          2724 non-null   float64 \n",
      " 62  Yr.Sold          2724 non-null   float64 \n",
      " 63  Sale.Type        2724 non-null   category\n",
      " 64  Sale.Condition   2724 non-null   category\n",
      " 65  SalePrice        2724 non-null   float64 \n",
      " 66  Condition        2724 non-null   category\n",
      " 67  HasShed          2724 non-null   bool    \n",
      " 68  HasAlley         2724 non-null   bool    \n",
      " 69  Exterior         2724 non-null   category\n",
      " 70  Garage.Age       2724 non-null   float64 \n",
      " 71  Remod.Age        2724 non-null   float64 \n",
      " 72  House.Age        2724 non-null   float64 \n",
      " 73  TotalSF          2724 non-null   float64 \n",
      " 74  TotalBath        2724 non-null   float64 \n",
      " 75  TotalSFLog       2724 non-null   float64 \n",
      " 76  All.SF           2724 non-null   float64 \n",
      " 77  All.Porch.SF     2724 non-null   float64 \n",
      " 78  AllSF-s2         2724 non-null   float64 \n",
      " 79  GrLivArea-s2     2724 non-null   float64 \n",
      "dtypes: bool(2), category(36), float64(42)\n",
      "memory usage: 1017.8 KB\n"
     ]
    }
   ],
   "source": [
    "with open('../data/processed/ames_minha1.pkl', 'rb') as file:\n",
    "    data = pickle.load(file)\n",
    "\n",
    "data.info()"
   ]
  },
  {
   "cell_type": "code",
   "execution_count": 6,
   "metadata": {},
   "outputs": [],
   "source": [
    "model_data = data.copy()"
   ]
  },
  {
   "cell_type": "markdown",
   "metadata": {},
   "source": [
    "## Transformando todas as colunas em numéricas"
   ]
  },
  {
   "cell_type": "code",
   "execution_count": 7,
   "metadata": {},
   "outputs": [],
   "source": [
    "categorical_columns = []\n",
    "ordinal_columns = []\n",
    "for col in model_data.select_dtypes('category').columns:\n",
    "    if model_data[col].cat.ordered:\n",
    "        ordinal_columns.append(col)\n",
    "    else:\n",
    "        categorical_columns.append(col)"
   ]
  },
  {
   "cell_type": "markdown",
   "metadata": {},
   "source": [
    "### Colunas ordinais\n"
   ]
  },
  {
   "cell_type": "code",
   "execution_count": 8,
   "metadata": {},
   "outputs": [],
   "source": [
    "for col in ordinal_columns:\n",
    "    codes, _ = pd.factorize(data[col], sort=True)\n",
    "    model_data[col] = codes"
   ]
  },
  {
   "cell_type": "markdown",
   "metadata": {},
   "source": [
    "### Colunas categóricas"
   ]
  },
  {
   "cell_type": "code",
   "execution_count": 9,
   "metadata": {},
   "outputs": [
    {
     "data": {
      "text/html": [
       "<div>\n",
       "<style scoped>\n",
       "    .dataframe tbody tr th:only-of-type {\n",
       "        vertical-align: middle;\n",
       "    }\n",
       "\n",
       "    .dataframe tbody tr th {\n",
       "        vertical-align: top;\n",
       "    }\n",
       "\n",
       "    .dataframe thead th {\n",
       "        text-align: right;\n",
       "    }\n",
       "</style>\n",
       "<table border=\"1\" class=\"dataframe\">\n",
       "  <thead>\n",
       "    <tr style=\"text-align: right;\">\n",
       "      <th></th>\n",
       "      <th>0</th>\n",
       "      <th>1</th>\n",
       "      <th>2</th>\n",
       "      <th>3</th>\n",
       "      <th>4</th>\n",
       "    </tr>\n",
       "  </thead>\n",
       "  <tbody>\n",
       "    <tr>\n",
       "      <th>AsbShng</th>\n",
       "      <td>False</td>\n",
       "      <td>False</td>\n",
       "      <td>False</td>\n",
       "      <td>False</td>\n",
       "      <td>False</td>\n",
       "    </tr>\n",
       "    <tr>\n",
       "      <th>BrkFace</th>\n",
       "      <td>True</td>\n",
       "      <td>False</td>\n",
       "      <td>False</td>\n",
       "      <td>True</td>\n",
       "      <td>False</td>\n",
       "    </tr>\n",
       "    <tr>\n",
       "      <th>CemntBd</th>\n",
       "      <td>False</td>\n",
       "      <td>False</td>\n",
       "      <td>False</td>\n",
       "      <td>False</td>\n",
       "      <td>False</td>\n",
       "    </tr>\n",
       "    <tr>\n",
       "      <th>HdBoard</th>\n",
       "      <td>False</td>\n",
       "      <td>False</td>\n",
       "      <td>False</td>\n",
       "      <td>False</td>\n",
       "      <td>False</td>\n",
       "    </tr>\n",
       "    <tr>\n",
       "      <th>MetalSd</th>\n",
       "      <td>False</td>\n",
       "      <td>False</td>\n",
       "      <td>False</td>\n",
       "      <td>False</td>\n",
       "      <td>False</td>\n",
       "    </tr>\n",
       "    <tr>\n",
       "      <th>Plywood</th>\n",
       "      <td>False</td>\n",
       "      <td>False</td>\n",
       "      <td>False</td>\n",
       "      <td>False</td>\n",
       "      <td>False</td>\n",
       "    </tr>\n",
       "    <tr>\n",
       "      <th>Stucco</th>\n",
       "      <td>False</td>\n",
       "      <td>False</td>\n",
       "      <td>False</td>\n",
       "      <td>False</td>\n",
       "      <td>False</td>\n",
       "    </tr>\n",
       "    <tr>\n",
       "      <th>VinylSd</th>\n",
       "      <td>False</td>\n",
       "      <td>True</td>\n",
       "      <td>False</td>\n",
       "      <td>False</td>\n",
       "      <td>True</td>\n",
       "    </tr>\n",
       "    <tr>\n",
       "      <th>Wd Sdng</th>\n",
       "      <td>False</td>\n",
       "      <td>False</td>\n",
       "      <td>True</td>\n",
       "      <td>False</td>\n",
       "      <td>False</td>\n",
       "    </tr>\n",
       "    <tr>\n",
       "      <th>WdShing</th>\n",
       "      <td>False</td>\n",
       "      <td>False</td>\n",
       "      <td>False</td>\n",
       "      <td>False</td>\n",
       "      <td>False</td>\n",
       "    </tr>\n",
       "    <tr>\n",
       "      <th>Other</th>\n",
       "      <td>False</td>\n",
       "      <td>False</td>\n",
       "      <td>False</td>\n",
       "      <td>False</td>\n",
       "      <td>False</td>\n",
       "    </tr>\n",
       "    <tr>\n",
       "      <th>Exterior</th>\n",
       "      <td>BrkFace</td>\n",
       "      <td>VinylSd</td>\n",
       "      <td>Wd Sdng</td>\n",
       "      <td>BrkFace</td>\n",
       "      <td>VinylSd</td>\n",
       "    </tr>\n",
       "  </tbody>\n",
       "</table>\n",
       "</div>"
      ],
      "text/plain": [
       "                0        1        2        3        4\n",
       "AsbShng     False    False    False    False    False\n",
       "BrkFace      True    False    False     True    False\n",
       "CemntBd     False    False    False    False    False\n",
       "HdBoard     False    False    False    False    False\n",
       "MetalSd     False    False    False    False    False\n",
       "Plywood     False    False    False    False    False\n",
       "Stucco      False    False    False    False    False\n",
       "VinylSd     False     True    False    False     True\n",
       "Wd Sdng     False    False     True    False    False\n",
       "WdShing     False    False    False    False    False\n",
       "Other       False    False    False    False    False\n",
       "Exterior  BrkFace  VinylSd  Wd Sdng  BrkFace  VinylSd"
      ]
     },
     "execution_count": 9,
     "metadata": {},
     "output_type": "execute_result"
    }
   ],
   "source": [
    "original_data = model_data['Exterior']\n",
    "encoded_data = pd.get_dummies(original_data)\n",
    "\n",
    "aux_dataframe = encoded_data\n",
    "aux_dataframe['Exterior'] = original_data.copy()\n",
    "\n",
    "aux_dataframe.head().transpose()"
   ]
  },
  {
   "cell_type": "code",
   "execution_count": 10,
   "metadata": {},
   "outputs": [
    {
     "data": {
      "text/html": [
       "<div>\n",
       "<style scoped>\n",
       "    .dataframe tbody tr th:only-of-type {\n",
       "        vertical-align: middle;\n",
       "    }\n",
       "\n",
       "    .dataframe tbody tr th {\n",
       "        vertical-align: top;\n",
       "    }\n",
       "\n",
       "    .dataframe thead th {\n",
       "        text-align: right;\n",
       "    }\n",
       "</style>\n",
       "<table border=\"1\" class=\"dataframe\">\n",
       "  <thead>\n",
       "    <tr style=\"text-align: right;\">\n",
       "      <th></th>\n",
       "      <th>0</th>\n",
       "      <th>1</th>\n",
       "      <th>2</th>\n",
       "      <th>3</th>\n",
       "      <th>4</th>\n",
       "    </tr>\n",
       "  </thead>\n",
       "  <tbody>\n",
       "    <tr>\n",
       "      <th>BrkFace</th>\n",
       "      <td>True</td>\n",
       "      <td>False</td>\n",
       "      <td>False</td>\n",
       "      <td>True</td>\n",
       "      <td>False</td>\n",
       "    </tr>\n",
       "    <tr>\n",
       "      <th>CemntBd</th>\n",
       "      <td>False</td>\n",
       "      <td>False</td>\n",
       "      <td>False</td>\n",
       "      <td>False</td>\n",
       "      <td>False</td>\n",
       "    </tr>\n",
       "    <tr>\n",
       "      <th>HdBoard</th>\n",
       "      <td>False</td>\n",
       "      <td>False</td>\n",
       "      <td>False</td>\n",
       "      <td>False</td>\n",
       "      <td>False</td>\n",
       "    </tr>\n",
       "    <tr>\n",
       "      <th>MetalSd</th>\n",
       "      <td>False</td>\n",
       "      <td>False</td>\n",
       "      <td>False</td>\n",
       "      <td>False</td>\n",
       "      <td>False</td>\n",
       "    </tr>\n",
       "    <tr>\n",
       "      <th>Plywood</th>\n",
       "      <td>False</td>\n",
       "      <td>False</td>\n",
       "      <td>False</td>\n",
       "      <td>False</td>\n",
       "      <td>False</td>\n",
       "    </tr>\n",
       "    <tr>\n",
       "      <th>Stucco</th>\n",
       "      <td>False</td>\n",
       "      <td>False</td>\n",
       "      <td>False</td>\n",
       "      <td>False</td>\n",
       "      <td>False</td>\n",
       "    </tr>\n",
       "    <tr>\n",
       "      <th>VinylSd</th>\n",
       "      <td>False</td>\n",
       "      <td>True</td>\n",
       "      <td>False</td>\n",
       "      <td>False</td>\n",
       "      <td>True</td>\n",
       "    </tr>\n",
       "    <tr>\n",
       "      <th>Wd Sdng</th>\n",
       "      <td>False</td>\n",
       "      <td>False</td>\n",
       "      <td>True</td>\n",
       "      <td>False</td>\n",
       "      <td>False</td>\n",
       "    </tr>\n",
       "    <tr>\n",
       "      <th>WdShing</th>\n",
       "      <td>False</td>\n",
       "      <td>False</td>\n",
       "      <td>False</td>\n",
       "      <td>False</td>\n",
       "      <td>False</td>\n",
       "    </tr>\n",
       "    <tr>\n",
       "      <th>Other</th>\n",
       "      <td>False</td>\n",
       "      <td>False</td>\n",
       "      <td>False</td>\n",
       "      <td>False</td>\n",
       "      <td>False</td>\n",
       "    </tr>\n",
       "    <tr>\n",
       "      <th>Exterior</th>\n",
       "      <td>BrkFace</td>\n",
       "      <td>VinylSd</td>\n",
       "      <td>Wd Sdng</td>\n",
       "      <td>BrkFace</td>\n",
       "      <td>VinylSd</td>\n",
       "    </tr>\n",
       "  </tbody>\n",
       "</table>\n",
       "</div>"
      ],
      "text/plain": [
       "                0        1        2        3        4\n",
       "BrkFace      True    False    False     True    False\n",
       "CemntBd     False    False    False    False    False\n",
       "HdBoard     False    False    False    False    False\n",
       "MetalSd     False    False    False    False    False\n",
       "Plywood     False    False    False    False    False\n",
       "Stucco      False    False    False    False    False\n",
       "VinylSd     False     True    False    False     True\n",
       "Wd Sdng     False    False     True    False    False\n",
       "WdShing     False    False    False    False    False\n",
       "Other       False    False    False    False    False\n",
       "Exterior  BrkFace  VinylSd  Wd Sdng  BrkFace  VinylSd"
      ]
     },
     "execution_count": 10,
     "metadata": {},
     "output_type": "execute_result"
    }
   ],
   "source": [
    "original_data = model_data['Exterior']\n",
    "encoded_data = pd.get_dummies(original_data, drop_first=True)\n",
    "\n",
    "aux_dataframe = encoded_data\n",
    "aux_dataframe['Exterior'] = original_data.copy()\n",
    "\n",
    "aux_dataframe.head().transpose()"
   ]
  },
  {
   "cell_type": "markdown",
   "metadata": {},
   "source": [
    "#### Transformação feita com one-hot enconding, retirando a primeira coluna"
   ]
  },
  {
   "cell_type": "code",
   "execution_count": 11,
   "metadata": {},
   "outputs": [],
   "source": [
    "model_data = pd.get_dummies(model_data, drop_first=True)"
   ]
  },
  {
   "cell_type": "markdown",
   "metadata": {},
   "source": [
    "**Quais colunas foram criadas a partir de cada uma das colunas categóricas**"
   ]
  },
  {
   "cell_type": "code",
   "execution_count": 12,
   "metadata": {},
   "outputs": [
    {
     "name": "stdout",
     "output_type": "stream",
     "text": [
      "From column \"MS.SubClass\" we made \"MS.SubClass_30\", \"MS.SubClass_50\", \"MS.SubClass_60\", \"MS.SubClass_70\", \"MS.SubClass_80\", \"MS.SubClass_85\", \"MS.SubClass_90\", \"MS.SubClass_120\", \"MS.SubClass_160\", \"MS.SubClass_190\", \"MS.SubClass_Other\"\n",
      "\n",
      "From column \"MS.Zoning\" we made \"MS.Zoning_RH\", \"MS.Zoning_RL\", \"MS.Zoning_RM\"\n",
      "\n",
      "From column \"Land.Contour\" we made \"Land.Contour_HLS\", \"Land.Contour_Low\", \"Land.Contour_Lvl\"\n",
      "\n",
      "From column \"Lot.Config\" we made \"Lot.Config_CulDSac\", \"Lot.Config_FR2\", \"Lot.Config_FR3\", \"Lot.Config_Inside\"\n",
      "\n",
      "From column \"Neighborhood\" we made \"Neighborhood_BrDale\", \"Neighborhood_BrkSide\", \"Neighborhood_ClearCr\", \"Neighborhood_CollgCr\", \"Neighborhood_Crawfor\", \"Neighborhood_Edwards\", \"Neighborhood_Gilbert\", \"Neighborhood_IDOTRR\", \"Neighborhood_MeadowV\", \"Neighborhood_Mitchel\", \"Neighborhood_NAmes\", \"Neighborhood_NPkVill\", \"Neighborhood_NWAmes\", \"Neighborhood_NoRidge\", \"Neighborhood_NridgHt\", \"Neighborhood_OldTown\", \"Neighborhood_SWISU\", \"Neighborhood_Sawyer\", \"Neighborhood_SawyerW\", \"Neighborhood_Somerst\", \"Neighborhood_StoneBr\", \"Neighborhood_Timber\", \"Neighborhood_Veenker\"\n",
      "\n",
      "From column \"Bldg.Type\" we made \"Bldg.Type_2fmCon\", \"Bldg.Type_Duplex\", \"Bldg.Type_Twnhs\", \"Bldg.Type_TwnhsE\"\n",
      "\n",
      "From column \"House.Style\" we made \"House.Style_1.5Unf\", \"House.Style_1Story\", \"House.Style_2.5Fin\", \"House.Style_2.5Unf\", \"House.Style_2Story\", \"House.Style_SFoyer\", \"House.Style_SLvl\"\n",
      "\n",
      "From column \"Roof.Style\" we made \"Roof.Style_Hip\", \"Roof.Style_Other\"\n",
      "\n",
      "From column \"Mas.Vnr.Type\" we made \"Mas.Vnr.Type_Stone\", \"Mas.Vnr.Type_Other\", \"Mas.Vnr.Type_None\"\n",
      "\n",
      "From column \"Foundation\" we made \"Foundation_CBlock\", \"Foundation_PConc\", \"Foundation_Other\"\n",
      "\n",
      "From column \"Bsmt.Qual\" we made \"Bsmt.Qual_Gd\", \"Bsmt.Qual_TA\", \"Bsmt.Qual_Fa\", \"Bsmt.Qual_NA\"\n",
      "\n",
      "From column \"Bsmt.Cond\" we made \"Bsmt.Cond_TA\", \"Bsmt.Cond_Fa\", \"Bsmt.Cond_NA\"\n",
      "\n",
      "From column \"Bsmt.Exposure\" we made \"Bsmt.Exposure_Av\", \"Bsmt.Exposure_Mn\", \"Bsmt.Exposure_No\", \"Bsmt.Exposure_NA\"\n",
      "\n",
      "From column \"BsmtFin.Type.1\" we made \"BsmtFin.Type.1_ALQ\", \"BsmtFin.Type.1_BLQ\", \"BsmtFin.Type.1_Rec\", \"BsmtFin.Type.1_LwQ\", \"BsmtFin.Type.1_Unf\", \"BsmtFin.Type.1_NA\"\n",
      "\n",
      "From column \"BsmtFin.Type.2\" we made \"BsmtFin.Type.2_ALQ\", \"BsmtFin.Type.2_BLQ\", \"BsmtFin.Type.2_Rec\", \"BsmtFin.Type.2_LwQ\", \"BsmtFin.Type.2_Unf\", \"BsmtFin.Type.2_NA\"\n",
      "\n",
      "From column \"Central.Air\" we made \"Central.Air_Y\"\n",
      "\n",
      "From column \"Garage.Type\" we made \"Garage.Type_Attchd\", \"Garage.Type_Basment\", \"Garage.Type_BuiltIn\", \"Garage.Type_CarPort\", \"Garage.Type_Detchd\"\n",
      "\n",
      "From column \"Garage.Finish\" we made \"Garage.Finish_RFn\", \"Garage.Finish_Unf\"\n",
      "\n",
      "From column \"Sale.Type\" we made \"Sale.Type_GroupedWD\", \"Sale.Type_Other\"\n",
      "\n",
      "From column \"Sale.Condition\" we made \"Sale.Condition_AdjLand\", \"Sale.Condition_Alloca\", \"Sale.Condition_Family\", \"Sale.Condition_Normal\", \"Sale.Condition_Partial\"\n",
      "\n",
      "From column \"Condition\" we made \"Condition_Railroad\", \"Condition_Roads\", \"Condition_Positive\", \"Condition_RoadsAndRailroad\"\n",
      "\n",
      "From column \"Exterior\" we made \"Exterior_BrkFace\", \"Exterior_CemntBd\", \"Exterior_HdBoard\", \"Exterior_MetalSd\", \"Exterior_Plywood\", \"Exterior_Stucco\", \"Exterior_VinylSd\", \"Exterior_Wd Sdng\", \"Exterior_WdShing\", \"Exterior_Other\"\n",
      "\n"
     ]
    }
   ],
   "source": [
    "for cat in categorical_columns:\n",
    "    dummies = []\n",
    "    for col in model_data.columns:\n",
    "        if col.startswith(cat + \"_\"):\n",
    "            dummies.append(f'\"{col}\"')\n",
    "    dummies_str = ', '.join(dummies)\n",
    "    print(f'From column \"{cat}\" we made {dummies_str}\\n')"
   ]
  },
  {
   "cell_type": "code",
   "execution_count": 13,
   "metadata": {},
   "outputs": [],
   "source": [
    "# model_data[\"Garage.Score\"] = model_data[\"Garage.Area\"] * model_data[\"Garage.Qual\"]\n",
    "# model_data[\"ExterQual-s2\"] = model_data[\"Exter.Qual\"] ** 2"
   ]
  },
  {
   "cell_type": "markdown",
   "metadata": {},
   "source": [
    "## Separação dos dados de trenainamento e teste"
   ]
  },
  {
   "cell_type": "code",
   "execution_count": 14,
   "metadata": {},
   "outputs": [],
   "source": [
    "X = model_data.drop(columns=['SalePrice']).copy()\n",
    "y = model_data['SalePrice'].copy()"
   ]
  },
  {
   "cell_type": "code",
   "execution_count": 15,
   "metadata": {},
   "outputs": [
    {
     "data": {
      "text/plain": [
       "(array([[141.0, 31770.0, 1, ..., False, False, False],\n",
       "        [80.0, 11622.0, 0, ..., False, False, False],\n",
       "        [81.0, 14267.0, 1, ..., True, False, False],\n",
       "        ...,\n",
       "        [68.0, 8885.0, 1, ..., False, False, False],\n",
       "        [77.0, 10010.0, 0, ..., False, False, False],\n",
       "        [74.0, 9627.0, 0, ..., False, False, False]], dtype=object),\n",
       " array([5.33243846, 5.0211893 , 5.23552845, ..., 5.1172713 , 5.23044892,\n",
       "        5.27415785]))"
      ]
     },
     "execution_count": 15,
     "metadata": {},
     "output_type": "execute_result"
    }
   ],
   "source": [
    "X.values, y.values"
   ]
  },
  {
   "cell_type": "code",
   "execution_count": 16,
   "metadata": {},
   "outputs": [],
   "source": [
    "from sklearn.model_selection import train_test_split\n",
    "RANDOM_SEED = 42  # Any number here, really.\n",
    "Xtrain, Xtest, ytrain, ytest = train_test_split(\n",
    "    X,\n",
    "    y,\n",
    "    test_size=0.25,\n",
    "    random_state=RANDOM_SEED,\n",
    ")"
   ]
  },
  {
   "cell_type": "markdown",
   "metadata": {},
   "source": [
    "## Treinando modelos para encontrar os melhores hiperparâmetros"
   ]
  },
  {
   "cell_type": "code",
   "execution_count": 17,
   "metadata": {},
   "outputs": [],
   "source": [
    "from sklearn.pipeline import Pipeline\n",
    "from sklearn.preprocessing import StandardScaler, OneHotEncoder, PolynomialFeatures\n",
    "from sklearn.linear_model import LinearRegression, Ridge, Lasso\n",
    "from sklearn.linear_model import LassoCV\n",
    "from sklearn.ensemble import GradientBoostingRegressor, RandomForestRegressor\n",
    "\n",
    "from sklearn.model_selection import cross_val_score\n",
    "\n",
    "from sklearn.model_selection import GridSearchCV\n",
    "from sklearn.metrics import mean_squared_error"
   ]
  },
  {
   "cell_type": "markdown",
   "metadata": {},
   "source": [
    "### Rigde"
   ]
  },
  {
   "cell_type": "code",
   "execution_count": 18,
   "metadata": {},
   "outputs": [],
   "source": [
    "\n",
    "# gs_ridge = GridSearchCV( estimator = Ridge(random_state=RANDOM_SEED),\n",
    "#                             param_grid = {\n",
    "#                                 'alpha': np.logspace(-3, 3, 7),\n",
    "#                                 'fit_intercept': [True, False],\n",
    "#                                 'solver': ['auto', 'svd', 'cholesky', 'lsqr', 'sparse_cg', 'sag', 'saga'],\n",
    "#                                 'tol': [1e-3, 1e-4, 1e-5],\n",
    "\n",
    "#                                           },\n",
    "#                             cv = 5,\n",
    "#                             n_jobs = -1)\n",
    "\n",
    "# gs_ridge.fit(Xtrain, ytrain)\n",
    "# print(gs_ridge.best_params_)"
   ]
  },
  {
   "cell_type": "markdown",
   "metadata": {},
   "source": [
    "### Lasso"
   ]
  },
  {
   "cell_type": "code",
   "execution_count": 19,
   "metadata": {},
   "outputs": [],
   "source": [
    "# gs_lasso = GridSearchCV( estimator = Lasso(random_state=RANDOM_SEED),\n",
    "#                             param_grid = {\n",
    "#                                     'alpha': [0.00001, 0.0001, 0.001, 0.01],\n",
    "#                                     'fit_intercept': [True, False],\n",
    "#                                     'max_iter': [250,500, 1000, 5000, 10000,100000]\n",
    "#                                           },\n",
    "#                             cv = 5,\n",
    "#                             n_jobs = -1)\n",
    "\n",
    "# gs_lasso.fit(Xtrain, ytrain)\n",
    "# print(gs_lasso.best_params_)"
   ]
  },
  {
   "cell_type": "markdown",
   "metadata": {},
   "source": [
    "{'alpha': 0.0001, 'fit_intercept': True, 'max_iter': 100000}"
   ]
  },
  {
   "cell_type": "markdown",
   "metadata": {},
   "source": [
    "### Gradient Boosting"
   ]
  },
  {
   "cell_type": "code",
   "execution_count": 20,
   "metadata": {},
   "outputs": [],
   "source": [
    "# gs_gradient_booting = GridSearchCV( estimator = GradientBoostingRegressor(),\n",
    "#                             param_grid = {'n_estimators': [500, 1000, 2000],\n",
    "#                                           'max_depth': [1, 2, 3, 4],\n",
    "#                                           'learning_rate': [0.1, 0.01, 0.001],\n",
    "#                                           },\n",
    "#                             cv = 5,\n",
    "#                             n_jobs = -1)\n",
    "\n",
    "# gs_gradient_booting.fit(Xtrain, ytrain)\n",
    "# print(gs_gradient_booting.best_params_)"
   ]
  },
  {
   "cell_type": "markdown",
   "metadata": {},
   "source": [
    "{'learning_rate': 0.01, 'max_depth': 4, 'n_estimators': 2000}"
   ]
  },
  {
   "cell_type": "markdown",
   "metadata": {},
   "source": [
    "### Random Forest Regressor"
   ]
  },
  {
   "cell_type": "code",
   "execution_count": 21,
   "metadata": {},
   "outputs": [],
   "source": [
    "\n",
    "# gs_random = GridSearchCV( estimator = RandomForestRegressor(random_state=RANDOM_SEED),\n",
    "#                             param_grid = {\n",
    "#                                 'n_estimators': [500, 1000, 2000],\n",
    "#                                 'max_depth': [1, 2, 3, 4],\n",
    "#                                           },\n",
    "#                             cv = 5,\n",
    "#                             n_jobs = -1)\n",
    "\n",
    "# gs_random.fit(Xtrain, ytrain)\n",
    "# print(gs_random.best_params_)"
   ]
  },
  {
   "cell_type": "markdown",
   "metadata": {},
   "source": [
    "{'max_depth': 4, 'n_estimators': 2000}"
   ]
  },
  {
   "cell_type": "markdown",
   "metadata": {},
   "source": [
    "## Comparando os modelos com validação cruzada"
   ]
  },
  {
   "cell_type": "code",
   "execution_count": 22,
   "metadata": {},
   "outputs": [
    {
     "name": "stderr",
     "output_type": "stream",
     "text": [
      "C:\\Users\\livia\\AppData\\Local\\Temp\\ipykernel_7660\\410102740.py:10: RuntimeWarning: overflow encountered in scalar power\n",
      "  return 100 * (10**np.sqrt(-score) - 1)\n"
     ]
    },
    {
     "name": "stdout",
     "output_type": "stream",
     "text": [
      "Model: Linear Regression - Error: 8.52%, inf%  => Mean Error inf%\n",
      "Model: Ridge - Error: 8.45%, 14.86%  => Mean Error 11.21%\n",
      "Model: Lasso - Error: 8.50%, 14.87%  => Mean Error 11.29%\n",
      "Model: Gradient Boosting - Error: 8.89%, 15.61%  => Mean Error 11.94%\n",
      "Model: Random Forest - Error: 13.18%, 20.34%  => Mean Error 17.01%\n"
     ]
    }
   ],
   "source": [
    "models = {\n",
    "    \"Linear Regression\": LinearRegression(),\n",
    "    \"Ridge\": Ridge(alpha= 10.0, fit_intercept= True, solver= 'svd', tol= 0.001, random_state=RANDOM_SEED),\n",
    "    \"Lasso\": Lasso(alpha=0.00001, fit_intercept=True, max_iter=100000, random_state=RANDOM_SEED),\n",
    "    \"Gradient Boosting\": GradientBoostingRegressor(n_estimators=2000, max_depth=4, learning_rate=0.1, random_state=RANDOM_SEED),\n",
    "    \"Random Forest\": RandomForestRegressor(random_state=RANDOM_SEED, n_estimators=2000, max_depth=4)\n",
    "}\n",
    "\n",
    "def erro_percentual(score):\n",
    "    return 100 * (10**np.sqrt(-score) - 1)\n",
    "\n",
    "model_scores = {}\n",
    "\n",
    "for model_name, model in models.items():\n",
    "    # Criando o pipeline com normalização e o modelo\n",
    "    pipeline = Pipeline([\n",
    "        ('scaler', StandardScaler()), \n",
    "        ('model', model)\n",
    "    ])\n",
    "\n",
    "\n",
    "    # Validação Cruzada\n",
    "    scores = cross_val_score(pipeline, Xtrain, ytrain, \n",
    "                                    scoring=\"neg_mean_squared_error\", cv=8, n_jobs=-1)\n",
    "    \n",
    "    model_scores[model_name] = scores\n",
    "    \n",
    "\n",
    "    # Calculando o erro percentual\n",
    "    error_percent_min = erro_percentual(scores.max())\n",
    "    error_percent_max = erro_percentual(scores.min())\n",
    "    error_percent_mean = erro_percentual(scores.mean())\n",
    "\n",
    "    \n",
    "    # Imprimindo o resultado\n",
    "    print(f'Model: {model_name} - Error: {error_percent_min:.2f}%, {error_percent_max:.2f}%  => Mean Error {error_percent_mean:.2f}%')\n"
   ]
  },
  {
   "cell_type": "markdown",
   "metadata": {},
   "source": [
    "A partir desses resultados podemos chegar em algumas conclusões:\n",
    "\n",
    "* A taxa de erro do linear regression em certo caso pode tender ao infinito, o que torna arriscado o uso desse modelo;\n",
    "* A taxa de erro do Random Forest é consideravelmente maior que os demais;\n",
    "* A taxa de erros entre os outros três modelos está dentro de uma faixa pequena de diferença, ou seja, é necessário realizar mais testes comparativos para selecionar o modelo final."
   ]
  },
  {
   "cell_type": "markdown",
   "metadata": {},
   "source": [
    "### Teste U de Mann-Whitney"
   ]
  },
  {
   "cell_type": "code",
   "execution_count": 23,
   "metadata": {},
   "outputs": [],
   "source": [
    "from scipy.stats import mannwhitneyu\n",
    "def rmse_score(score): return np.sqrt(-score)"
   ]
  },
  {
   "cell_type": "markdown",
   "metadata": {},
   "source": [
    "#### Ridge vs Lasso"
   ]
  },
  {
   "cell_type": "code",
   "execution_count": 24,
   "metadata": {},
   "outputs": [
    {
     "name": "stdout",
     "output_type": "stream",
     "text": [
      "p-value: 0.5053613053613053\n"
     ]
    }
   ],
   "source": [
    "U, pvalue = mannwhitneyu(rmse_score(model_scores['Ridge']), rmse_score(model_scores['Lasso']))\n",
    "print(\"p-value: {0}\".format(pvalue))\n"
   ]
  },
  {
   "cell_type": "markdown",
   "metadata": {},
   "source": [
    "#### Ridge vs Gradient Boosting"
   ]
  },
  {
   "cell_type": "code",
   "execution_count": 25,
   "metadata": {},
   "outputs": [
    {
     "name": "stdout",
     "output_type": "stream",
     "text": [
      "p-value: 0.1605283605283605\n"
     ]
    }
   ],
   "source": [
    "U, pvalue = mannwhitneyu(rmse_score(model_scores['Ridge']), rmse_score(model_scores['Gradient Boosting']))\n",
    "print(\"p-value: {0}\".format(pvalue))"
   ]
  },
  {
   "cell_type": "markdown",
   "metadata": {},
   "source": [
    "#### Lasso vs Gradient Boosting"
   ]
  },
  {
   "cell_type": "code",
   "execution_count": 26,
   "metadata": {},
   "outputs": [
    {
     "name": "stdout",
     "output_type": "stream",
     "text": [
      "p-value: 0.23449883449883446\n"
     ]
    }
   ],
   "source": [
    "U, pvalue = mannwhitneyu(rmse_score(model_scores['Lasso']), rmse_score(model_scores['Gradient Boosting']))\n",
    "print(\"p-value: {0}\".format(pvalue))"
   ]
  },
  {
   "cell_type": "markdown",
   "metadata": {},
   "source": [
    "## Avaliação final de desempenho"
   ]
  },
  {
   "cell_type": "code",
   "execution_count": 27,
   "metadata": {},
   "outputs": [
    {
     "name": "stdout",
     "output_type": "stream",
     "text": [
      "Average error: 9.98%\n"
     ]
    }
   ],
   "source": [
    "Xtrain = StandardScaler().fit_transform(Xtrain)\n",
    "Xtest = StandardScaler().fit_transform(Xtest)\n",
    "\n",
    "final_model = models['Ridge']\n",
    "\n",
    "# Ajustando o modelo\n",
    "final_model.fit(Xtrain, ytrain)\n",
    "\n",
    "# Fazendo previsões\n",
    "ypred = final_model.predict(Xtest)\n",
    "\n",
    "# Calculando o RMSE\n",
    "RMSE = np.sqrt(mean_squared_error(ytest, ypred))\n",
    "\n",
    "# Calculando o erro percentual\n",
    "error_percent = 100 * (10**RMSE - 1)\n",
    "\n",
    "# Imprimindo o resultado\n",
    "print(f'Average error: {error_percent:.2f}%')"
   ]
  },
  {
   "cell_type": "code",
   "execution_count": null,
   "metadata": {},
   "outputs": [],
   "source": []
  },
  {
   "cell_type": "markdown",
   "metadata": {},
   "source": [
    "## Treinamento final\n",
    "\n",
    "Treinamento do modelo com o conjunto completo de dados"
   ]
  },
  {
   "cell_type": "code",
   "execution_count": null,
   "metadata": {},
   "outputs": [],
   "source": []
  },
  {
   "cell_type": "markdown",
   "metadata": {},
   "source": [
    "- importância das features\n",
    "- conclusão\n",
    "- justificativa das colunas criadas\n",
    "- explicação dos testes de hipótese"
   ]
  },
  {
   "cell_type": "markdown",
   "metadata": {},
   "source": []
  }
 ],
 "metadata": {
  "kernelspec": {
   "display_name": "env",
   "language": "python",
   "name": "python3"
  },
  "language_info": {
   "codemirror_mode": {
    "name": "ipython",
    "version": 3
   },
   "file_extension": ".py",
   "mimetype": "text/x-python",
   "name": "python",
   "nbconvert_exporter": "python",
   "pygments_lexer": "ipython3",
   "version": "3.10.2"
  },
  "orig_nbformat": 4
 },
 "nbformat": 4,
 "nbformat_minor": 2
}
